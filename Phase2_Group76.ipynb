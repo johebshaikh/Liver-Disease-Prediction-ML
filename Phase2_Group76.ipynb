{
 "cells": [
  {
   "cell_type": "markdown",
   "metadata": {},
   "source": [
    "<h1><center> MACHINE LEARNING </center></h1>\n"
   ]
  },
  {
   "cell_type": "markdown",
   "metadata": {},
   "source": [
    "<h1><center>Predicting Likelihood of a Liver disease</center></h1>"
   ]
  },
  {
   "cell_type": "markdown",
   "metadata": {},
   "source": [
    "# Table of contents\n",
    "- [Introduction](#OV)\n",
    "    - [Report Overview](#ROO)\n",
    "    - [Overview of Methodology](#OOM)\n",
    "- [Predictive Modelling](#PPM)\n",
    "    - [Feature Selection](#FFS)\n",
    "    - [Model Fitting & Tuning](#MMFTT)\n",
    "    - [Model Comparison](#MMCC)\n",
    "- [Critique and Limitations](#CCL)\n",
    "- [Summary and Conclusions](#CC)\n",
    "    - [Project Summary](#PPS)\n",
    "    - [Summary of Findings](#SOOF)\n",
    "    - [Conclusions](#CCC)"
   ]
  },
  {
   "cell_type": "markdown",
   "metadata": {},
   "source": [
    "# Introduction <a name=\"OV\"></a>"
   ]
  },
  {
   "cell_type": "markdown",
   "metadata": {},
   "source": [
    "## Report Overview <a name=\"ROO\"></a>"
   ]
  },
  {
   "cell_type": "markdown",
   "metadata": {},
   "source": [
    "- Methodology used in predictive modeling \n",
    "- Encoding and Scaling the descriptive features and target feature\n",
    "- Feature Selection and Ranking to gain insight about the best performing features\n",
    "- Spliting the dataset for training and testing\n",
    "- Hyperparameter Tuning with five binary classifiers\n",
    "- Model Comparison to find the best performing and statistically significant model using paired t-tests\n",
    "- Critique and Limitations\n",
    "- Summary of the project\n",
    "- Conclusion"
   ]
  },
  {
   "cell_type": "markdown",
   "metadata": {},
   "source": [
    "##  Overview of Methodology <a name=\"OOM\"></a>"
   ]
  },
  {
   "cell_type": "markdown",
   "metadata": {},
   "source": [
    "For Predictive modelling, we used five binary classifiers to predict the target feature:\n",
    "\n",
    "- K Nearest Neighbor (KNN)\n",
    "- Naive Bayes (NB)\n",
    "- Decision Tree (DT)\n",
    "- Random Forest Classifier\n",
    "- Support Vector Machine\n",
    "\n",
    "In the phase 1 of the project, we preprocessed the dataset and performed data exploration for a better understanding. In this phase, we use preprocessed dataset from phase 1 and transform the dataset. Data transformation includes, encoding the descriptive features into numeric (categorical features) and scaling the other descriptive features. We split the dataset into into train and test dataset with a 70:30 ratio. Hence, the training dataset contains 408 instances and test dataset contains 175 instances. \n",
    "\n",
    "We performed feature ranking and selected the best features. We performed feature selection using F-score, Mutual information, Random Forest Importance and SpFSR. From all these methods, we selected the best features using Random Forest Importance with  100 estimators inside a pipeline. The best features were categorized by selecting 2,4,6,8,10 and all the features after encoding and scaling the descriptive features. \n",
    "\n",
    "We implement a 5-fold stratified cross validation to fine tune hyper-parameters of each classifier using AUC (Area Under Curve) as performance metric. This is done by using feature selection and hyperparameter search within a single pipeline. The selector field i.e. the target feature has more values of patients with a liver disease, it is important to stratify the dataset so that this dataset and the original dataset has same proportion of classes. Once, the classification is performed, they are fitted on the test data using a 10-fold cross-validation. The next step performed is the paired t-tests to check their performance and check if they are statistically significant. \n",
    "\n",
    "Finally, these classifiers are compared on the test data using their recall scores and confusion matrices. "
   ]
  },
  {
   "cell_type": "markdown",
   "metadata": {},
   "source": [
    "#### Dataset Details"
   ]
  },
  {
   "cell_type": "markdown",
   "metadata": {},
   "source": [
    "- The data set includes details about Indian patients suffering from liver disease and whether or not the person has a liver disease. The dataset consists of 584 patients registering liver diseases and analysed by the 'Indian liver patient data.csv'. The dataset are sourced from the [UCI Machine Learning Repository](https://archive.ics.uci.edu/ml/datasets/ILPD+%28Indian+Liver+Patient+Dataset%29). These medical records contain their body characteristics and some test findings in the laboratory. A logistic regression model can predict whether or not the individual has a liver disease.\n",
    "- The electronic health records can be valuable information resources for revealing connections with and relationships between patient data, not just for the purpose of study, but also for quashing misunderstandings on risk factors that cause liver disease. The variables or factors into consideration are Patient’s age, gender, Total Bilirubin (TB), Direct Bilirubin (DB), Alkphos Alkaline Phosphotase, Sgpt Alamine Aminotransferase, Sgot Aspartate Aminotransferase, Total Protiens (TP), Albumin (ALB), Albumin-Globlulin Ratio (AG Ratio)and Selector field i.e., the Predictor variable. All these considerations allow us to say whether or not the patient has liver disease.\n"
   ]
  },
  {
   "cell_type": "code",
   "execution_count": 1,
   "metadata": {},
   "outputs": [
    {
     "name": "stdout",
     "output_type": "stream",
     "text": [
      "Requirement already satisfied: tabulate in d:\\anacondaa\\lib\\site-packages (0.8.9)\n",
      "Note: you may need to restart the kernel to use updated packages.\n"
     ]
    }
   ],
   "source": [
    "pip install tabulate"
   ]
  },
  {
   "cell_type": "code",
   "execution_count": 2,
   "metadata": {},
   "outputs": [],
   "source": [
    "from tabulate import tabulate"
   ]
  },
  {
   "cell_type": "markdown",
   "metadata": {},
   "source": [
    "table = [['Name of the feature', 'Data type', 'Units', 'Brief description'],\n",
    "        ['Age', 'Numerical', 'Years', 'Patients age in no. of years.'],  \n",
    "        ['Gender', 'Categorical', 'Unknown', 'Whether a Patient is Male or Female'], \n",
    "        ['TB', 'Numerical', 'mg/dL', 'Level of Total Bilirubin in blood'],\n",
    "        ['DB', 'Numerical', 'mg/dL', 'Level of Direct Bilirubin in blood'],\n",
    "        ['Alkphos Alkaline Phosphotase ', 'Numerical', 'IU/L', 'Level of ALP in blood'], \n",
    "        ['Sgpt Alamine Aminotransferase', 'Numerical', 'Units/serum', 'Level of SGPT in blood'], \n",
    "        ['Sgot Aspartate Aminotransferase ', 'Numerical', 'per-litre/serum', 'Level of SGOT in blood'], \n",
    "        ['TP', 'Numerical', 'g/dL', 'Level of Total Proteins in blood'], \n",
    "        ['ALB', 'Numerical', 'g/dL', 'Level of Albumin in blood'], \n",
    "        ['AG Ratio', 'Numerical', 'g/dL', 'Ratio of Albumin in Globulin in blood'],\n",
    "        ['Selector field ', 'Categorical', 'Unknown', 'Predictor variable']]\n"
   ]
  },
  {
   "cell_type": "code",
   "execution_count": 4,
   "metadata": {},
   "outputs": [
    {
     "name": "stdout",
     "output_type": "stream",
     "text": [
      "╒═════════════════════════════════╤═════════════╤═════════════════╤═══════════════════════════════════════╕\n",
      "│ Name of the feature             │ Data type   │ Units           │ Brief description                     │\n",
      "╞═════════════════════════════════╪═════════════╪═════════════════╪═══════════════════════════════════════╡\n",
      "│ Age                             │ Numerical   │ Years           │ Patients age in no. of years.         │\n",
      "├─────────────────────────────────┼─────────────┼─────────────────┼───────────────────────────────────────┤\n",
      "│ Gender                          │ Categorical │ Unknown         │ Whether a Patient is Male or Female   │\n",
      "├─────────────────────────────────┼─────────────┼─────────────────┼───────────────────────────────────────┤\n",
      "│ TB                              │ Numerical   │ mg/dL           │ Level of Total Bilirubin in blood     │\n",
      "├─────────────────────────────────┼─────────────┼─────────────────┼───────────────────────────────────────┤\n",
      "│ DB                              │ Numerical   │ mg/dL           │ Level of Direct Bilirubin in blood    │\n",
      "├─────────────────────────────────┼─────────────┼─────────────────┼───────────────────────────────────────┤\n",
      "│ Alkphos Alkaline Phosphotase    │ Numerical   │ IU/L            │ Level of ALP in blood                 │\n",
      "├─────────────────────────────────┼─────────────┼─────────────────┼───────────────────────────────────────┤\n",
      "│ Sgpt Alamine Aminotransferase   │ Numerical   │ Units/serum     │ Level of SGPT in blood                │\n",
      "├─────────────────────────────────┼─────────────┼─────────────────┼───────────────────────────────────────┤\n",
      "│ Sgot Aspartate Aminotransferase │ Numerical   │ per-litre/serum │ Level of SGOT in blood                │\n",
      "├─────────────────────────────────┼─────────────┼─────────────────┼───────────────────────────────────────┤\n",
      "│ TP                              │ Numerical   │ g/dL            │ Level of Total Proteins in blood      │\n",
      "├─────────────────────────────────┼─────────────┼─────────────────┼───────────────────────────────────────┤\n",
      "│ ALB                             │ Numerical   │ g/dL            │ Level of Albumin in blood             │\n",
      "├─────────────────────────────────┼─────────────┼─────────────────┼───────────────────────────────────────┤\n",
      "│ AG Ratio                        │ Numerical   │ g/dL            │ Ratio of Albumin in Globulin in blood │\n",
      "├─────────────────────────────────┼─────────────┼─────────────────┼───────────────────────────────────────┤\n",
      "│ Selector field                  │ Categorical │ Unknown         │ Predictor variable                    │\n",
      "╘═════════════════════════════════╧═════════════╧═════════════════╧═══════════════════════════════════════╛\n"
     ]
    }
   ],
   "source": [
    "print(tabulate(table, headers='firstrow', tablefmt='fancy_grid'))"
   ]
  },
  {
   "cell_type": "markdown",
   "metadata": {},
   "source": [
    "#### Target Feature"
   ]
  },
  {
   "cell_type": "markdown",
   "metadata": {},
   "source": [
    "- Target feature or the predictor variable is `Selector field`. It is a categorical variable with values '1' and '2' where one (1) represents the person is suffering from a liver disease and two (2) represents the person is not suffering from a liver disease. \n",
    "\n",
    "- The predictor variable will be used in the phase two as target feature in the regression model. The dependent variables are Age, Total and Direct Bilirubin, SGPT, SGOT, Total proteins, Albumin, Albumin to Globulin Ratio."
   ]
  },
  {
   "cell_type": "markdown",
   "metadata": {},
   "source": [
    "#### Importing modules "
   ]
  },
  {
   "cell_type": "code",
   "execution_count": 5,
   "metadata": {},
   "outputs": [],
   "source": [
    "import numpy as np\n",
    "import pandas as pd\n",
    "import matplotlib.pyplot as plt\n",
    "import seaborn as sns\n",
    "import warnings\n",
    "warnings.filterwarnings('ignore')"
   ]
  },
  {
   "cell_type": "code",
   "execution_count": 6,
   "metadata": {
    "scrolled": true
   },
   "outputs": [
    {
     "data": {
      "text/html": [
       "<div>\n",
       "<style scoped>\n",
       "    .dataframe tbody tr th:only-of-type {\n",
       "        vertical-align: middle;\n",
       "    }\n",
       "\n",
       "    .dataframe tbody tr th {\n",
       "        vertical-align: top;\n",
       "    }\n",
       "\n",
       "    .dataframe thead th {\n",
       "        text-align: right;\n",
       "    }\n",
       "</style>\n",
       "<table border=\"1\" class=\"dataframe\">\n",
       "  <thead>\n",
       "    <tr style=\"text-align: right;\">\n",
       "      <th></th>\n",
       "      <th>Age</th>\n",
       "      <th>Gender</th>\n",
       "      <th>TB</th>\n",
       "      <th>DB</th>\n",
       "      <th>Alkphos Alkaline Phosphotase</th>\n",
       "      <th>Sgpt Alamine Aminotransferase</th>\n",
       "      <th>Sgot Aspartate Aminotransferase</th>\n",
       "      <th>TP</th>\n",
       "      <th>ALB</th>\n",
       "      <th>AG Ratio</th>\n",
       "      <th>Selector field</th>\n",
       "    </tr>\n",
       "  </thead>\n",
       "  <tbody>\n",
       "    <tr>\n",
       "      <th>0</th>\n",
       "      <td>65</td>\n",
       "      <td>Female</td>\n",
       "      <td>0.7</td>\n",
       "      <td>0.1</td>\n",
       "      <td>187</td>\n",
       "      <td>16</td>\n",
       "      <td>18</td>\n",
       "      <td>6.8</td>\n",
       "      <td>3.3</td>\n",
       "      <td>0.90</td>\n",
       "      <td>1</td>\n",
       "    </tr>\n",
       "    <tr>\n",
       "      <th>1</th>\n",
       "      <td>62</td>\n",
       "      <td>Male</td>\n",
       "      <td>10.9</td>\n",
       "      <td>5.5</td>\n",
       "      <td>699</td>\n",
       "      <td>64</td>\n",
       "      <td>100</td>\n",
       "      <td>7.5</td>\n",
       "      <td>3.2</td>\n",
       "      <td>0.74</td>\n",
       "      <td>1</td>\n",
       "    </tr>\n",
       "    <tr>\n",
       "      <th>2</th>\n",
       "      <td>62</td>\n",
       "      <td>Male</td>\n",
       "      <td>7.3</td>\n",
       "      <td>4.1</td>\n",
       "      <td>490</td>\n",
       "      <td>60</td>\n",
       "      <td>68</td>\n",
       "      <td>7.0</td>\n",
       "      <td>3.3</td>\n",
       "      <td>0.89</td>\n",
       "      <td>1</td>\n",
       "    </tr>\n",
       "    <tr>\n",
       "      <th>3</th>\n",
       "      <td>58</td>\n",
       "      <td>Male</td>\n",
       "      <td>1.0</td>\n",
       "      <td>0.4</td>\n",
       "      <td>182</td>\n",
       "      <td>14</td>\n",
       "      <td>20</td>\n",
       "      <td>6.8</td>\n",
       "      <td>3.4</td>\n",
       "      <td>1.00</td>\n",
       "      <td>1</td>\n",
       "    </tr>\n",
       "    <tr>\n",
       "      <th>4</th>\n",
       "      <td>72</td>\n",
       "      <td>Male</td>\n",
       "      <td>3.9</td>\n",
       "      <td>2.0</td>\n",
       "      <td>195</td>\n",
       "      <td>27</td>\n",
       "      <td>59</td>\n",
       "      <td>7.3</td>\n",
       "      <td>2.4</td>\n",
       "      <td>0.40</td>\n",
       "      <td>1</td>\n",
       "    </tr>\n",
       "  </tbody>\n",
       "</table>\n",
       "</div>"
      ],
      "text/plain": [
       "   Age  Gender    TB   DB  Alkphos Alkaline Phosphotase  \\\n",
       "0   65  Female   0.7  0.1                           187   \n",
       "1   62    Male  10.9  5.5                           699   \n",
       "2   62    Male   7.3  4.1                           490   \n",
       "3   58    Male   1.0  0.4                           182   \n",
       "4   72    Male   3.9  2.0                           195   \n",
       "\n",
       "   Sgpt Alamine Aminotransferase  Sgot Aspartate Aminotransferase   TP  ALB  \\\n",
       "0                             16                               18  6.8  3.3   \n",
       "1                             64                              100  7.5  3.2   \n",
       "2                             60                               68  7.0  3.3   \n",
       "3                             14                               20  6.8  3.4   \n",
       "4                             27                               59  7.3  2.4   \n",
       "\n",
       "   AG Ratio  Selector field  \n",
       "0      0.90               1  \n",
       "1      0.74               1  \n",
       "2      0.89               1  \n",
       "3      1.00               1  \n",
       "4      0.40               1  "
      ]
     },
     "execution_count": 6,
     "metadata": {},
     "output_type": "execute_result"
    }
   ],
   "source": [
    "ilpd = pd.read_csv('D:/MS Analytics/Semester 3/Machine Learning/datagrp76.csv')\n",
    "ilpd.head()"
   ]
  },
  {
   "cell_type": "markdown",
   "metadata": {},
   "source": [
    "- The full dataset has 583 instances and 12 variables"
   ]
  },
  {
   "cell_type": "code",
   "execution_count": 7,
   "metadata": {},
   "outputs": [
    {
     "data": {
      "text/plain": [
       "Age                                0\n",
       "Gender                             0\n",
       "TB                                 0\n",
       "DB                                 0\n",
       "Alkphos Alkaline Phosphotase       0\n",
       "Sgpt Alamine Aminotransferase      0\n",
       "Sgot Aspartate Aminotransferase    0\n",
       "TP                                 0\n",
       "ALB                                0\n",
       "AG Ratio                           4\n",
       "Selector field                     0\n",
       "dtype: int64"
      ]
     },
     "execution_count": 7,
     "metadata": {},
     "output_type": "execute_result"
    }
   ],
   "source": [
    "ilpd.isna().sum()"
   ]
  },
  {
   "cell_type": "markdown",
   "metadata": {},
   "source": [
    "- We check if dataset has any NA values\n",
    "- If yes, we replace the NA values with mean of the respective column"
   ]
  },
  {
   "cell_type": "code",
   "execution_count": 11,
   "metadata": {},
   "outputs": [
    {
     "data": {
      "text/plain": [
       "0.9470639032815201"
      ]
     },
     "execution_count": 11,
     "metadata": {},
     "output_type": "execute_result"
    }
   ],
   "source": [
    "ilpd['AG Ratio'].mean()"
   ]
  },
  {
   "cell_type": "code",
   "execution_count": 12,
   "metadata": {},
   "outputs": [],
   "source": [
    "ilpd=ilpd.fillna(0.9470639032815201)"
   ]
  },
  {
   "cell_type": "code",
   "execution_count": 13,
   "metadata": {},
   "outputs": [
    {
     "data": {
      "text/plain": [
       "Age                                0\n",
       "Gender                             0\n",
       "TB                                 0\n",
       "DB                                 0\n",
       "Alkphos Alkaline Phosphotase       0\n",
       "Sgpt Alamine Aminotransferase      0\n",
       "Sgot Aspartate Aminotransferase    0\n",
       "TP                                 0\n",
       "ALB                                0\n",
       "AG Ratio                           0\n",
       "Selector field                     0\n",
       "dtype: int64"
      ]
     },
     "execution_count": 13,
     "metadata": {},
     "output_type": "execute_result"
    }
   ],
   "source": [
    "ilpd.isna().sum()"
   ]
  },
  {
   "cell_type": "markdown",
   "metadata": {},
   "source": [
    "### Encoding Categorical Characteristics Numeric: <a name=\"ECCN\"></a>\n",
    "\n",
    "- Before predictive modeling, it is necessary to encode categorical features into numeric"
   ]
  },
  {
   "cell_type": "code",
   "execution_count": 14,
   "metadata": {},
   "outputs": [],
   "source": [
    "ilpd['Gender'].replace('Female',0,inplace=True)\n",
    "ilpd['Gender'].replace('Male',1,inplace=True)"
   ]
  },
  {
   "cell_type": "code",
   "execution_count": 15,
   "metadata": {},
   "outputs": [
    {
     "data": {
      "text/html": [
       "<div>\n",
       "<style scoped>\n",
       "    .dataframe tbody tr th:only-of-type {\n",
       "        vertical-align: middle;\n",
       "    }\n",
       "\n",
       "    .dataframe tbody tr th {\n",
       "        vertical-align: top;\n",
       "    }\n",
       "\n",
       "    .dataframe thead th {\n",
       "        text-align: right;\n",
       "    }\n",
       "</style>\n",
       "<table border=\"1\" class=\"dataframe\">\n",
       "  <thead>\n",
       "    <tr style=\"text-align: right;\">\n",
       "      <th></th>\n",
       "      <th>Age</th>\n",
       "      <th>Gender</th>\n",
       "      <th>TB</th>\n",
       "      <th>DB</th>\n",
       "      <th>Alkphos Alkaline Phosphotase</th>\n",
       "      <th>Sgpt Alamine Aminotransferase</th>\n",
       "      <th>Sgot Aspartate Aminotransferase</th>\n",
       "      <th>TP</th>\n",
       "      <th>ALB</th>\n",
       "      <th>AG Ratio</th>\n",
       "      <th>Selector field</th>\n",
       "    </tr>\n",
       "  </thead>\n",
       "  <tbody>\n",
       "    <tr>\n",
       "      <th>0</th>\n",
       "      <td>65</td>\n",
       "      <td>0</td>\n",
       "      <td>0.7</td>\n",
       "      <td>0.1</td>\n",
       "      <td>187</td>\n",
       "      <td>16</td>\n",
       "      <td>18</td>\n",
       "      <td>6.8</td>\n",
       "      <td>3.3</td>\n",
       "      <td>0.90</td>\n",
       "      <td>1</td>\n",
       "    </tr>\n",
       "    <tr>\n",
       "      <th>1</th>\n",
       "      <td>62</td>\n",
       "      <td>1</td>\n",
       "      <td>10.9</td>\n",
       "      <td>5.5</td>\n",
       "      <td>699</td>\n",
       "      <td>64</td>\n",
       "      <td>100</td>\n",
       "      <td>7.5</td>\n",
       "      <td>3.2</td>\n",
       "      <td>0.74</td>\n",
       "      <td>1</td>\n",
       "    </tr>\n",
       "    <tr>\n",
       "      <th>2</th>\n",
       "      <td>62</td>\n",
       "      <td>1</td>\n",
       "      <td>7.3</td>\n",
       "      <td>4.1</td>\n",
       "      <td>490</td>\n",
       "      <td>60</td>\n",
       "      <td>68</td>\n",
       "      <td>7.0</td>\n",
       "      <td>3.3</td>\n",
       "      <td>0.89</td>\n",
       "      <td>1</td>\n",
       "    </tr>\n",
       "    <tr>\n",
       "      <th>3</th>\n",
       "      <td>58</td>\n",
       "      <td>1</td>\n",
       "      <td>1.0</td>\n",
       "      <td>0.4</td>\n",
       "      <td>182</td>\n",
       "      <td>14</td>\n",
       "      <td>20</td>\n",
       "      <td>6.8</td>\n",
       "      <td>3.4</td>\n",
       "      <td>1.00</td>\n",
       "      <td>1</td>\n",
       "    </tr>\n",
       "    <tr>\n",
       "      <th>4</th>\n",
       "      <td>72</td>\n",
       "      <td>1</td>\n",
       "      <td>3.9</td>\n",
       "      <td>2.0</td>\n",
       "      <td>195</td>\n",
       "      <td>27</td>\n",
       "      <td>59</td>\n",
       "      <td>7.3</td>\n",
       "      <td>2.4</td>\n",
       "      <td>0.40</td>\n",
       "      <td>1</td>\n",
       "    </tr>\n",
       "  </tbody>\n",
       "</table>\n",
       "</div>"
      ],
      "text/plain": [
       "   Age  Gender    TB   DB  Alkphos Alkaline Phosphotase  \\\n",
       "0   65       0   0.7  0.1                           187   \n",
       "1   62       1  10.9  5.5                           699   \n",
       "2   62       1   7.3  4.1                           490   \n",
       "3   58       1   1.0  0.4                           182   \n",
       "4   72       1   3.9  2.0                           195   \n",
       "\n",
       "   Sgpt Alamine Aminotransferase  Sgot Aspartate Aminotransferase   TP  ALB  \\\n",
       "0                             16                               18  6.8  3.3   \n",
       "1                             64                              100  7.5  3.2   \n",
       "2                             60                               68  7.0  3.3   \n",
       "3                             14                               20  6.8  3.4   \n",
       "4                             27                               59  7.3  2.4   \n",
       "\n",
       "   AG Ratio  Selector field  \n",
       "0      0.90               1  \n",
       "1      0.74               1  \n",
       "2      0.89               1  \n",
       "3      1.00               1  \n",
       "4      0.40               1  "
      ]
     },
     "execution_count": 15,
     "metadata": {},
     "output_type": "execute_result"
    }
   ],
   "source": [
    "ilpd.head()"
   ]
  },
  {
   "cell_type": "markdown",
   "metadata": {},
   "source": [
    "#### Note for respected column variable (selected field)<a name=\"RCV\"></a>"
   ]
  },
  {
   "cell_type": "markdown",
   "metadata": {},
   "source": [
    "The `selector field` variable contains values `1` and `2`.\n",
    " \n",
    "`1(One)` represents that **'the patient has liver disease or liver cancer'**.  \n",
    "\n",
    "`2(Two)` represents that **'the patient does not have a liver disease or liver cancer'** \n",
    "   "
   ]
  },
  {
   "cell_type": "markdown",
   "metadata": {},
   "source": [
    "- Creating a new variable Age Group for better understanding of Age of Patients `(from Phase 1)`"
   ]
  },
  {
   "cell_type": "code",
   "execution_count": 16,
   "metadata": {},
   "outputs": [],
   "source": [
    "def Age_group(row):\n",
    "    if row['Age'] >= 0 and row['Age'] <= 25:\n",
    "        return '0 to 25'\n",
    "    elif row['Age'] >= 26 and row['Age'] <= 50:\n",
    "        return '26 to 50'\n",
    "    elif row['Age'] >= 51 and row['Age'] <= 75:\n",
    "        return '51 to 75'\n",
    "    elif row['Age'] >= 76 and row['Age'] <= 100:\n",
    "        return 'Over 75'\n",
    "    else:\n",
    "        return 'Over 100'\n",
    "    \n",
    "ilpd['Age_group'] = ilpd.apply(Age_group, axis=1)\n"
   ]
  },
  {
   "cell_type": "markdown",
   "metadata": {},
   "source": [
    "#### Summary Statistics"
   ]
  },
  {
   "cell_type": "code",
   "execution_count": 17,
   "metadata": {},
   "outputs": [
    {
     "data": {
      "text/html": [
       "<div>\n",
       "<style scoped>\n",
       "    .dataframe tbody tr th:only-of-type {\n",
       "        vertical-align: middle;\n",
       "    }\n",
       "\n",
       "    .dataframe tbody tr th {\n",
       "        vertical-align: top;\n",
       "    }\n",
       "\n",
       "    .dataframe thead th {\n",
       "        text-align: right;\n",
       "    }\n",
       "</style>\n",
       "<table border=\"1\" class=\"dataframe\">\n",
       "  <thead>\n",
       "    <tr style=\"text-align: right;\">\n",
       "      <th></th>\n",
       "      <th>Age</th>\n",
       "      <th>Gender</th>\n",
       "      <th>TB</th>\n",
       "      <th>DB</th>\n",
       "      <th>Alkphos Alkaline Phosphotase</th>\n",
       "      <th>Sgpt Alamine Aminotransferase</th>\n",
       "      <th>Sgot Aspartate Aminotransferase</th>\n",
       "      <th>TP</th>\n",
       "      <th>ALB</th>\n",
       "      <th>AG Ratio</th>\n",
       "      <th>Selector field</th>\n",
       "      <th>Age_group</th>\n",
       "    </tr>\n",
       "  </thead>\n",
       "  <tbody>\n",
       "    <tr>\n",
       "      <th>count</th>\n",
       "      <td>583.000000</td>\n",
       "      <td>583.000000</td>\n",
       "      <td>583.000000</td>\n",
       "      <td>583.000000</td>\n",
       "      <td>583.000000</td>\n",
       "      <td>583.000000</td>\n",
       "      <td>583.000000</td>\n",
       "      <td>583.000000</td>\n",
       "      <td>583.000000</td>\n",
       "      <td>583.000000</td>\n",
       "      <td>583.000000</td>\n",
       "      <td>583</td>\n",
       "    </tr>\n",
       "    <tr>\n",
       "      <th>unique</th>\n",
       "      <td>NaN</td>\n",
       "      <td>NaN</td>\n",
       "      <td>NaN</td>\n",
       "      <td>NaN</td>\n",
       "      <td>NaN</td>\n",
       "      <td>NaN</td>\n",
       "      <td>NaN</td>\n",
       "      <td>NaN</td>\n",
       "      <td>NaN</td>\n",
       "      <td>NaN</td>\n",
       "      <td>NaN</td>\n",
       "      <td>4</td>\n",
       "    </tr>\n",
       "    <tr>\n",
       "      <th>top</th>\n",
       "      <td>NaN</td>\n",
       "      <td>NaN</td>\n",
       "      <td>NaN</td>\n",
       "      <td>NaN</td>\n",
       "      <td>NaN</td>\n",
       "      <td>NaN</td>\n",
       "      <td>NaN</td>\n",
       "      <td>NaN</td>\n",
       "      <td>NaN</td>\n",
       "      <td>NaN</td>\n",
       "      <td>NaN</td>\n",
       "      <td>26 to 50</td>\n",
       "    </tr>\n",
       "    <tr>\n",
       "      <th>freq</th>\n",
       "      <td>NaN</td>\n",
       "      <td>NaN</td>\n",
       "      <td>NaN</td>\n",
       "      <td>NaN</td>\n",
       "      <td>NaN</td>\n",
       "      <td>NaN</td>\n",
       "      <td>NaN</td>\n",
       "      <td>NaN</td>\n",
       "      <td>NaN</td>\n",
       "      <td>NaN</td>\n",
       "      <td>NaN</td>\n",
       "      <td>306</td>\n",
       "    </tr>\n",
       "    <tr>\n",
       "      <th>mean</th>\n",
       "      <td>44.746141</td>\n",
       "      <td>0.756432</td>\n",
       "      <td>3.298799</td>\n",
       "      <td>1.486106</td>\n",
       "      <td>290.576329</td>\n",
       "      <td>80.713551</td>\n",
       "      <td>109.910806</td>\n",
       "      <td>6.483190</td>\n",
       "      <td>3.141852</td>\n",
       "      <td>0.947064</td>\n",
       "      <td>1.286449</td>\n",
       "      <td>NaN</td>\n",
       "    </tr>\n",
       "    <tr>\n",
       "      <th>std</th>\n",
       "      <td>16.189833</td>\n",
       "      <td>0.429603</td>\n",
       "      <td>6.209522</td>\n",
       "      <td>2.808498</td>\n",
       "      <td>242.937989</td>\n",
       "      <td>182.620356</td>\n",
       "      <td>288.918529</td>\n",
       "      <td>1.085451</td>\n",
       "      <td>0.795519</td>\n",
       "      <td>0.318492</td>\n",
       "      <td>0.452490</td>\n",
       "      <td>NaN</td>\n",
       "    </tr>\n",
       "    <tr>\n",
       "      <th>min</th>\n",
       "      <td>4.000000</td>\n",
       "      <td>0.000000</td>\n",
       "      <td>0.400000</td>\n",
       "      <td>0.100000</td>\n",
       "      <td>63.000000</td>\n",
       "      <td>10.000000</td>\n",
       "      <td>10.000000</td>\n",
       "      <td>2.700000</td>\n",
       "      <td>0.900000</td>\n",
       "      <td>0.300000</td>\n",
       "      <td>1.000000</td>\n",
       "      <td>NaN</td>\n",
       "    </tr>\n",
       "    <tr>\n",
       "      <th>25%</th>\n",
       "      <td>33.000000</td>\n",
       "      <td>1.000000</td>\n",
       "      <td>0.800000</td>\n",
       "      <td>0.200000</td>\n",
       "      <td>175.500000</td>\n",
       "      <td>23.000000</td>\n",
       "      <td>25.000000</td>\n",
       "      <td>5.800000</td>\n",
       "      <td>2.600000</td>\n",
       "      <td>0.700000</td>\n",
       "      <td>1.000000</td>\n",
       "      <td>NaN</td>\n",
       "    </tr>\n",
       "    <tr>\n",
       "      <th>50%</th>\n",
       "      <td>45.000000</td>\n",
       "      <td>1.000000</td>\n",
       "      <td>1.000000</td>\n",
       "      <td>0.300000</td>\n",
       "      <td>208.000000</td>\n",
       "      <td>35.000000</td>\n",
       "      <td>42.000000</td>\n",
       "      <td>6.600000</td>\n",
       "      <td>3.100000</td>\n",
       "      <td>0.947064</td>\n",
       "      <td>1.000000</td>\n",
       "      <td>NaN</td>\n",
       "    </tr>\n",
       "    <tr>\n",
       "      <th>75%</th>\n",
       "      <td>58.000000</td>\n",
       "      <td>1.000000</td>\n",
       "      <td>2.600000</td>\n",
       "      <td>1.300000</td>\n",
       "      <td>298.000000</td>\n",
       "      <td>60.500000</td>\n",
       "      <td>87.000000</td>\n",
       "      <td>7.200000</td>\n",
       "      <td>3.800000</td>\n",
       "      <td>1.100000</td>\n",
       "      <td>2.000000</td>\n",
       "      <td>NaN</td>\n",
       "    </tr>\n",
       "    <tr>\n",
       "      <th>max</th>\n",
       "      <td>90.000000</td>\n",
       "      <td>1.000000</td>\n",
       "      <td>75.000000</td>\n",
       "      <td>19.700000</td>\n",
       "      <td>2110.000000</td>\n",
       "      <td>2000.000000</td>\n",
       "      <td>4929.000000</td>\n",
       "      <td>9.600000</td>\n",
       "      <td>5.500000</td>\n",
       "      <td>2.800000</td>\n",
       "      <td>2.000000</td>\n",
       "      <td>NaN</td>\n",
       "    </tr>\n",
       "  </tbody>\n",
       "</table>\n",
       "</div>"
      ],
      "text/plain": [
       "               Age      Gender          TB          DB  \\\n",
       "count   583.000000  583.000000  583.000000  583.000000   \n",
       "unique         NaN         NaN         NaN         NaN   \n",
       "top            NaN         NaN         NaN         NaN   \n",
       "freq           NaN         NaN         NaN         NaN   \n",
       "mean     44.746141    0.756432    3.298799    1.486106   \n",
       "std      16.189833    0.429603    6.209522    2.808498   \n",
       "min       4.000000    0.000000    0.400000    0.100000   \n",
       "25%      33.000000    1.000000    0.800000    0.200000   \n",
       "50%      45.000000    1.000000    1.000000    0.300000   \n",
       "75%      58.000000    1.000000    2.600000    1.300000   \n",
       "max      90.000000    1.000000   75.000000   19.700000   \n",
       "\n",
       "        Alkphos Alkaline Phosphotase  Sgpt Alamine Aminotransferase  \\\n",
       "count                     583.000000                     583.000000   \n",
       "unique                           NaN                            NaN   \n",
       "top                              NaN                            NaN   \n",
       "freq                             NaN                            NaN   \n",
       "mean                      290.576329                      80.713551   \n",
       "std                       242.937989                     182.620356   \n",
       "min                        63.000000                      10.000000   \n",
       "25%                       175.500000                      23.000000   \n",
       "50%                       208.000000                      35.000000   \n",
       "75%                       298.000000                      60.500000   \n",
       "max                      2110.000000                    2000.000000   \n",
       "\n",
       "        Sgot Aspartate Aminotransferase          TP         ALB    AG Ratio  \\\n",
       "count                        583.000000  583.000000  583.000000  583.000000   \n",
       "unique                              NaN         NaN         NaN         NaN   \n",
       "top                                 NaN         NaN         NaN         NaN   \n",
       "freq                                NaN         NaN         NaN         NaN   \n",
       "mean                         109.910806    6.483190    3.141852    0.947064   \n",
       "std                          288.918529    1.085451    0.795519    0.318492   \n",
       "min                           10.000000    2.700000    0.900000    0.300000   \n",
       "25%                           25.000000    5.800000    2.600000    0.700000   \n",
       "50%                           42.000000    6.600000    3.100000    0.947064   \n",
       "75%                           87.000000    7.200000    3.800000    1.100000   \n",
       "max                         4929.000000    9.600000    5.500000    2.800000   \n",
       "\n",
       "        Selector field Age_group  \n",
       "count       583.000000       583  \n",
       "unique             NaN         4  \n",
       "top                NaN  26 to 50  \n",
       "freq               NaN       306  \n",
       "mean          1.286449       NaN  \n",
       "std           0.452490       NaN  \n",
       "min           1.000000       NaN  \n",
       "25%           1.000000       NaN  \n",
       "50%           1.000000       NaN  \n",
       "75%           2.000000       NaN  \n",
       "max           2.000000       NaN  "
      ]
     },
     "execution_count": 17,
     "metadata": {},
     "output_type": "execute_result"
    }
   ],
   "source": [
    "ilpd.describe(include='all')"
   ]
  },
  {
   "cell_type": "code",
   "execution_count": 18,
   "metadata": {},
   "outputs": [
    {
     "data": {
      "text/plain": [
       "1    416\n",
       "2    167\n",
       "Name: Selector field, dtype: int64"
      ]
     },
     "execution_count": 18,
     "metadata": {},
     "output_type": "execute_result"
    }
   ],
   "source": [
    "Data = ilpd.drop(columns='Selector field')\n",
    "target = ilpd['Selector field']\n",
    "target.value_counts()"
   ]
  },
  {
   "cell_type": "markdown",
   "metadata": {},
   "source": [
    "### Encoding the Target Feature\n",
    "We remove the \"Selector field\" feature from the full dataset and call it \"target\". The rest of the features are the descriptive features which we call \"Data\"."
   ]
  },
  {
   "cell_type": "markdown",
   "metadata": {},
   "source": [
    "Keep in mind that scikit-learn always requires all data to be numeric, so the target needs to be encoded as 0 and 1"
   ]
  },
  {
   "cell_type": "code",
   "execution_count": 20,
   "metadata": {},
   "outputs": [],
   "source": [
    "from sklearn import preprocessing\n",
    "\n",
    "target = preprocessing.LabelEncoder().fit_transform(target)"
   ]
  },
  {
   "cell_type": "markdown",
   "metadata": {},
   "source": [
    "Note that \"1\" is labeled as 0 whereas \"2 as labeled as 1 (see the code below)."
   ]
  },
  {
   "cell_type": "code",
   "execution_count": 21,
   "metadata": {},
   "outputs": [
    {
     "data": {
      "text/plain": [
       "(array([0, 1], dtype=int64), array([416, 167], dtype=int64))"
      ]
     },
     "execution_count": 21,
     "metadata": {},
     "output_type": "execute_result"
    }
   ],
   "source": [
    "np.unique(target, return_counts = True)"
   ]
  },
  {
   "cell_type": "markdown",
   "metadata": {},
   "source": [
    "### Encoding Categorical Descriptive Features\n",
    "\n",
    "We attempt one-hot encoding since all of the descriptive features appear to be nominal. We also establish q dummy variables for a category descriptive variable with q levels, because we intend to use feature selection. We design a single dummy variable when a category descriptive feature has just two levels. Let us generate a list of categorical descriptive features."
   ]
  },
  {
   "cell_type": "code",
   "execution_count": 22,
   "metadata": {},
   "outputs": [],
   "source": [
    "categorical_cols = Data.columns[Data.dtypes==object].tolist()"
   ]
  },
  {
   "cell_type": "markdown",
   "metadata": {},
   "source": [
    "Before any transformation, the categorical features are as follows."
   ]
  },
  {
   "cell_type": "code",
   "execution_count": 23,
   "metadata": {},
   "outputs": [
    {
     "data": {
      "text/plain": [
       "['Age_group']"
      ]
     },
     "execution_count": 23,
     "metadata": {},
     "output_type": "execute_result"
    }
   ],
   "source": [
    "categorical_cols"
   ]
  },
  {
   "cell_type": "markdown",
   "metadata": {},
   "source": [
    "The coding operation is shown below. For each two-level categorical variable, we set the `drop_first` option to `True` to encode the variable into a single column of 0 or 1. Next, we apply the `get_dummies() `function for the regular one-hot encoding for categorical features with more than 2 levels."
   ]
  },
  {
   "cell_type": "code",
   "execution_count": 24,
   "metadata": {},
   "outputs": [],
   "source": [
    "for col in categorical_cols:\n",
    "    n = len(Data[col].unique())\n",
    "    if (n == 2):\n",
    "        Data[col] = pd.get_dummies(Data[col], drop_first=True)\n",
    "   \n",
    "# use one-hot-encoding for categorical features with >2 levels\n",
    "Data = pd.get_dummies(Data)"
   ]
  },
  {
   "cell_type": "markdown",
   "metadata": {},
   "source": [
    "After encoding, the feature set has the following columns."
   ]
  },
  {
   "cell_type": "code",
   "execution_count": 25,
   "metadata": {},
   "outputs": [
    {
     "data": {
      "text/plain": [
       "Index(['Age', 'Gender', 'TB', 'DB', 'Alkphos Alkaline Phosphotase',\n",
       "       'Sgpt Alamine Aminotransferase', 'Sgot Aspartate Aminotransferase',\n",
       "       'TP', 'ALB', 'AG Ratio', 'Age_group_0 to 25', 'Age_group_26 to 50',\n",
       "       'Age_group_51 to 75', 'Age_group_Over 75'],\n",
       "      dtype='object')"
      ]
     },
     "execution_count": 25,
     "metadata": {},
     "output_type": "execute_result"
    }
   ],
   "source": [
    "Data.columns"
   ]
  },
  {
   "cell_type": "code",
   "execution_count": 26,
   "metadata": {},
   "outputs": [
    {
     "data": {
      "text/html": [
       "<div>\n",
       "<style scoped>\n",
       "    .dataframe tbody tr th:only-of-type {\n",
       "        vertical-align: middle;\n",
       "    }\n",
       "\n",
       "    .dataframe tbody tr th {\n",
       "        vertical-align: top;\n",
       "    }\n",
       "\n",
       "    .dataframe thead th {\n",
       "        text-align: right;\n",
       "    }\n",
       "</style>\n",
       "<table border=\"1\" class=\"dataframe\">\n",
       "  <thead>\n",
       "    <tr style=\"text-align: right;\">\n",
       "      <th></th>\n",
       "      <th>Age</th>\n",
       "      <th>Gender</th>\n",
       "      <th>TB</th>\n",
       "      <th>DB</th>\n",
       "      <th>Alkphos Alkaline Phosphotase</th>\n",
       "      <th>Sgpt Alamine Aminotransferase</th>\n",
       "      <th>Sgot Aspartate Aminotransferase</th>\n",
       "      <th>TP</th>\n",
       "      <th>ALB</th>\n",
       "      <th>AG Ratio</th>\n",
       "      <th>Age_group_0 to 25</th>\n",
       "      <th>Age_group_26 to 50</th>\n",
       "      <th>Age_group_51 to 75</th>\n",
       "      <th>Age_group_Over 75</th>\n",
       "    </tr>\n",
       "  </thead>\n",
       "  <tbody>\n",
       "    <tr>\n",
       "      <th>42</th>\n",
       "      <td>42</td>\n",
       "      <td>1</td>\n",
       "      <td>6.8</td>\n",
       "      <td>3.2</td>\n",
       "      <td>630</td>\n",
       "      <td>25</td>\n",
       "      <td>47</td>\n",
       "      <td>6.1</td>\n",
       "      <td>2.3</td>\n",
       "      <td>0.60</td>\n",
       "      <td>0</td>\n",
       "      <td>1</td>\n",
       "      <td>0</td>\n",
       "      <td>0</td>\n",
       "    </tr>\n",
       "    <tr>\n",
       "      <th>440</th>\n",
       "      <td>49</td>\n",
       "      <td>0</td>\n",
       "      <td>0.8</td>\n",
       "      <td>0.2</td>\n",
       "      <td>198</td>\n",
       "      <td>23</td>\n",
       "      <td>20</td>\n",
       "      <td>7.0</td>\n",
       "      <td>4.3</td>\n",
       "      <td>1.50</td>\n",
       "      <td>0</td>\n",
       "      <td>1</td>\n",
       "      <td>0</td>\n",
       "      <td>0</td>\n",
       "    </tr>\n",
       "    <tr>\n",
       "      <th>193</th>\n",
       "      <td>49</td>\n",
       "      <td>1</td>\n",
       "      <td>1.3</td>\n",
       "      <td>0.4</td>\n",
       "      <td>206</td>\n",
       "      <td>30</td>\n",
       "      <td>25</td>\n",
       "      <td>6.0</td>\n",
       "      <td>3.1</td>\n",
       "      <td>1.06</td>\n",
       "      <td>0</td>\n",
       "      <td>1</td>\n",
       "      <td>0</td>\n",
       "      <td>0</td>\n",
       "    </tr>\n",
       "    <tr>\n",
       "      <th>508</th>\n",
       "      <td>46</td>\n",
       "      <td>1</td>\n",
       "      <td>18.4</td>\n",
       "      <td>8.5</td>\n",
       "      <td>450</td>\n",
       "      <td>119</td>\n",
       "      <td>230</td>\n",
       "      <td>7.5</td>\n",
       "      <td>3.3</td>\n",
       "      <td>0.70</td>\n",
       "      <td>0</td>\n",
       "      <td>1</td>\n",
       "      <td>0</td>\n",
       "      <td>0</td>\n",
       "    </tr>\n",
       "    <tr>\n",
       "      <th>400</th>\n",
       "      <td>66</td>\n",
       "      <td>0</td>\n",
       "      <td>0.7</td>\n",
       "      <td>0.2</td>\n",
       "      <td>162</td>\n",
       "      <td>24</td>\n",
       "      <td>20</td>\n",
       "      <td>6.4</td>\n",
       "      <td>3.2</td>\n",
       "      <td>1.00</td>\n",
       "      <td>0</td>\n",
       "      <td>0</td>\n",
       "      <td>1</td>\n",
       "      <td>0</td>\n",
       "    </tr>\n",
       "  </tbody>\n",
       "</table>\n",
       "</div>"
      ],
      "text/plain": [
       "     Age  Gender    TB   DB  Alkphos Alkaline Phosphotase  \\\n",
       "42    42       1   6.8  3.2                           630   \n",
       "440   49       0   0.8  0.2                           198   \n",
       "193   49       1   1.3  0.4                           206   \n",
       "508   46       1  18.4  8.5                           450   \n",
       "400   66       0   0.7  0.2                           162   \n",
       "\n",
       "     Sgpt Alamine Aminotransferase  Sgot Aspartate Aminotransferase   TP  ALB  \\\n",
       "42                              25                               47  6.1  2.3   \n",
       "440                             23                               20  7.0  4.3   \n",
       "193                             30                               25  6.0  3.1   \n",
       "508                            119                              230  7.5  3.3   \n",
       "400                             24                               20  6.4  3.2   \n",
       "\n",
       "     AG Ratio  Age_group_0 to 25  Age_group_26 to 50  Age_group_51 to 75  \\\n",
       "42       0.60                  0                   1                   0   \n",
       "440      1.50                  0                   1                   0   \n",
       "193      1.06                  0                   1                   0   \n",
       "508      0.70                  0                   1                   0   \n",
       "400      1.00                  0                   0                   1   \n",
       "\n",
       "     Age_group_Over 75  \n",
       "42                   0  \n",
       "440                  0  \n",
       "193                  0  \n",
       "508                  0  \n",
       "400                  0  "
      ]
     },
     "execution_count": 26,
     "metadata": {},
     "output_type": "execute_result"
    }
   ],
   "source": [
    "Data.sample(5, random_state=999)"
   ]
  },
  {
   "cell_type": "markdown",
   "metadata": {},
   "source": [
    "### Scaling of Features\n",
    "After encoding all the categorical features, we perform a min-max scaling of the descriptive features. But first we make a copy of the Data to keep track of column names."
   ]
  },
  {
   "cell_type": "code",
   "execution_count": 27,
   "metadata": {},
   "outputs": [],
   "source": [
    "from sklearn import preprocessing\n",
    "\n",
    "Data_df = Data.copy()\n",
    "\n",
    "Data_scaler = preprocessing.MinMaxScaler()\n",
    "Data_scaler.fit(Data)\n",
    "Data = Data_scaler.fit_transform(Data)"
   ]
  },
  {
   "cell_type": "markdown",
   "metadata": {},
   "source": [
    "Let's have another look at the descriptive features after scaling. Pay attention that the output of the scaler is a NumPy array, so all the column names are lost. That's why we kept a copy of Data before scaling so that we can recover the column names below. We observe below that binary features are still kept as binary after the min-max scaling."
   ]
  },
  {
   "cell_type": "code",
   "execution_count": 28,
   "metadata": {},
   "outputs": [
    {
     "data": {
      "text/html": [
       "<div>\n",
       "<style scoped>\n",
       "    .dataframe tbody tr th:only-of-type {\n",
       "        vertical-align: middle;\n",
       "    }\n",
       "\n",
       "    .dataframe tbody tr th {\n",
       "        vertical-align: top;\n",
       "    }\n",
       "\n",
       "    .dataframe thead th {\n",
       "        text-align: right;\n",
       "    }\n",
       "</style>\n",
       "<table border=\"1\" class=\"dataframe\">\n",
       "  <thead>\n",
       "    <tr style=\"text-align: right;\">\n",
       "      <th></th>\n",
       "      <th>Age</th>\n",
       "      <th>Gender</th>\n",
       "      <th>TB</th>\n",
       "      <th>DB</th>\n",
       "      <th>Alkphos Alkaline Phosphotase</th>\n",
       "      <th>Sgpt Alamine Aminotransferase</th>\n",
       "      <th>Sgot Aspartate Aminotransferase</th>\n",
       "      <th>TP</th>\n",
       "      <th>ALB</th>\n",
       "      <th>AG Ratio</th>\n",
       "      <th>Age_group_0 to 25</th>\n",
       "      <th>Age_group_26 to 50</th>\n",
       "      <th>Age_group_51 to 75</th>\n",
       "      <th>Age_group_Over 75</th>\n",
       "    </tr>\n",
       "  </thead>\n",
       "  <tbody>\n",
       "    <tr>\n",
       "      <th>42</th>\n",
       "      <td>0.441860</td>\n",
       "      <td>1.0</td>\n",
       "      <td>0.085791</td>\n",
       "      <td>0.158163</td>\n",
       "      <td>0.276991</td>\n",
       "      <td>0.007538</td>\n",
       "      <td>0.007522</td>\n",
       "      <td>0.492754</td>\n",
       "      <td>0.304348</td>\n",
       "      <td>0.120</td>\n",
       "      <td>0.0</td>\n",
       "      <td>1.0</td>\n",
       "      <td>0.0</td>\n",
       "      <td>0.0</td>\n",
       "    </tr>\n",
       "    <tr>\n",
       "      <th>440</th>\n",
       "      <td>0.523256</td>\n",
       "      <td>0.0</td>\n",
       "      <td>0.005362</td>\n",
       "      <td>0.005102</td>\n",
       "      <td>0.065950</td>\n",
       "      <td>0.006533</td>\n",
       "      <td>0.002033</td>\n",
       "      <td>0.623188</td>\n",
       "      <td>0.739130</td>\n",
       "      <td>0.480</td>\n",
       "      <td>0.0</td>\n",
       "      <td>1.0</td>\n",
       "      <td>0.0</td>\n",
       "      <td>0.0</td>\n",
       "    </tr>\n",
       "    <tr>\n",
       "      <th>193</th>\n",
       "      <td>0.523256</td>\n",
       "      <td>1.0</td>\n",
       "      <td>0.012064</td>\n",
       "      <td>0.015306</td>\n",
       "      <td>0.069858</td>\n",
       "      <td>0.010050</td>\n",
       "      <td>0.003049</td>\n",
       "      <td>0.478261</td>\n",
       "      <td>0.478261</td>\n",
       "      <td>0.304</td>\n",
       "      <td>0.0</td>\n",
       "      <td>1.0</td>\n",
       "      <td>0.0</td>\n",
       "      <td>0.0</td>\n",
       "    </tr>\n",
       "    <tr>\n",
       "      <th>508</th>\n",
       "      <td>0.488372</td>\n",
       "      <td>1.0</td>\n",
       "      <td>0.241287</td>\n",
       "      <td>0.428571</td>\n",
       "      <td>0.189057</td>\n",
       "      <td>0.054774</td>\n",
       "      <td>0.044725</td>\n",
       "      <td>0.695652</td>\n",
       "      <td>0.521739</td>\n",
       "      <td>0.160</td>\n",
       "      <td>0.0</td>\n",
       "      <td>1.0</td>\n",
       "      <td>0.0</td>\n",
       "      <td>0.0</td>\n",
       "    </tr>\n",
       "    <tr>\n",
       "      <th>400</th>\n",
       "      <td>0.720930</td>\n",
       "      <td>0.0</td>\n",
       "      <td>0.004021</td>\n",
       "      <td>0.005102</td>\n",
       "      <td>0.048363</td>\n",
       "      <td>0.007035</td>\n",
       "      <td>0.002033</td>\n",
       "      <td>0.536232</td>\n",
       "      <td>0.500000</td>\n",
       "      <td>0.280</td>\n",
       "      <td>0.0</td>\n",
       "      <td>0.0</td>\n",
       "      <td>1.0</td>\n",
       "      <td>0.0</td>\n",
       "    </tr>\n",
       "  </tbody>\n",
       "</table>\n",
       "</div>"
      ],
      "text/plain": [
       "          Age  Gender        TB        DB  Alkphos Alkaline Phosphotase  \\\n",
       "42   0.441860     1.0  0.085791  0.158163                      0.276991   \n",
       "440  0.523256     0.0  0.005362  0.005102                      0.065950   \n",
       "193  0.523256     1.0  0.012064  0.015306                      0.069858   \n",
       "508  0.488372     1.0  0.241287  0.428571                      0.189057   \n",
       "400  0.720930     0.0  0.004021  0.005102                      0.048363   \n",
       "\n",
       "     Sgpt Alamine Aminotransferase  Sgot Aspartate Aminotransferase        TP  \\\n",
       "42                        0.007538                         0.007522  0.492754   \n",
       "440                       0.006533                         0.002033  0.623188   \n",
       "193                       0.010050                         0.003049  0.478261   \n",
       "508                       0.054774                         0.044725  0.695652   \n",
       "400                       0.007035                         0.002033  0.536232   \n",
       "\n",
       "          ALB  AG Ratio  Age_group_0 to 25  Age_group_26 to 50  \\\n",
       "42   0.304348     0.120                0.0                 1.0   \n",
       "440  0.739130     0.480                0.0                 1.0   \n",
       "193  0.478261     0.304                0.0                 1.0   \n",
       "508  0.521739     0.160                0.0                 1.0   \n",
       "400  0.500000     0.280                0.0                 0.0   \n",
       "\n",
       "     Age_group_51 to 75  Age_group_Over 75  \n",
       "42                  0.0                0.0  \n",
       "440                 0.0                0.0  \n",
       "193                 0.0                0.0  \n",
       "508                 0.0                0.0  \n",
       "400                 1.0                0.0  "
      ]
     },
     "execution_count": 28,
     "metadata": {},
     "output_type": "execute_result"
    }
   ],
   "source": [
    "ilpd_df=pd.DataFrame(Data, columns=Data_df.columns).sample(5, random_state=999)\n",
    "ilpd_df"
   ]
  },
  {
   "cell_type": "markdown",
   "metadata": {},
   "source": [
    "# Predictive Modelling <a name=\"PPM\"></a>"
   ]
  },
  {
   "cell_type": "markdown",
   "metadata": {},
   "source": [
    "### Feature Selection <a name=\"FFS\"></a>\n",
    "\n",
    "- In feature selection and ranking, we performed feature selection using all the methods and selected Random Forest Importance as the best method\n",
    "- Feature selection and ranking gives us an insight of top features that would help us in predicting whether a patient has liver disease"
   ]
  },
  {
   "cell_type": "code",
   "execution_count": 29,
   "metadata": {},
   "outputs": [],
   "source": [
    "num_features = 10\n",
    "from sklearn.ensemble import RandomForestClassifier\n",
    "model_rfi = RandomForestClassifier(n_estimators=100)\n",
    "model_rfi.fit(Data, target)\n",
    "fs_indices_rfi = np.argsort(model_rfi.feature_importances_)[::-1][0:num_features]"
   ]
  },
  {
   "cell_type": "code",
   "execution_count": 30,
   "metadata": {},
   "outputs": [
    {
     "data": {
      "text/plain": [
       "array(['Alkphos Alkaline Phosphotase', 'Sgot Aspartate Aminotransferase',\n",
       "       'Sgpt Alamine Aminotransferase', 'Age', 'TB', 'TP', 'ALB',\n",
       "       'AG Ratio', 'DB', 'Gender'], dtype=object)"
      ]
     },
     "execution_count": 30,
     "metadata": {},
     "output_type": "execute_result"
    }
   ],
   "source": [
    "best_features_rfi = ilpd.columns[fs_indices_rfi].values\n",
    "best_features_rfi"
   ]
  },
  {
   "cell_type": "markdown",
   "metadata": {},
   "source": [
    "These are the best features selected by the Random Forest Importance method"
   ]
  },
  {
   "cell_type": "code",
   "execution_count": 31,
   "metadata": {},
   "outputs": [
    {
     "data": {
      "text/plain": [
       "array([0.13707095, 0.13086225, 0.12739408, 0.1100948 , 0.10525792,\n",
       "       0.09046677, 0.08955323, 0.07646246, 0.07634503, 0.01809375])"
      ]
     },
     "execution_count": 31,
     "metadata": {},
     "output_type": "execute_result"
    }
   ],
   "source": [
    "feature_importances_rfi = model_rfi.feature_importances_[fs_indices_rfi]\n",
    "feature_importances_rfi"
   ]
  },
  {
   "cell_type": "code",
   "execution_count": 32,
   "metadata": {},
   "outputs": [
    {
     "data": {
      "image/png": "[encoded data removed]",
      "text/plain": [
       "<Figure size 432x288 with 1 Axes>"
      ]
     },
     "metadata": {
      "image/png": {
       "height": 281,
       "width": 541
      }
     },
     "output_type": "display_data"
    }
   ],
   "source": [
    "import matplotlib.pyplot as plt\n",
    "%matplotlib inline \n",
    "%config InlineBackend.figure_format = 'retina'\n",
    "plt.style.use(\"ggplot\")\n",
    "\n",
    "def plot_imp(best_features, scores, method_name):   \n",
    "    plt.barh(best_features, scores)\n",
    "    plt.title(method_name + ' Feature Importances')\n",
    "    plt.xlabel(\"Importance\")\n",
    "    plt.ylabel(\"Features\")\n",
    "    \n",
    "plot_imp(best_features_rfi, feature_importances_rfi, 'Random Forest')\n"
   ]
  },
  {
   "cell_type": "markdown",
   "metadata": {},
   "source": [
    "We find that Alkphos Alkaline Phosphotase is the most important feature, followed by SGOT, SGPT, Age of patient etc."
   ]
  },
  {
   "cell_type": "markdown",
   "metadata": {},
   "source": [
    "## Data Sampling & Train-Test Splitting\n",
    "We split the descriptive features and the target feature into a training set and a test set by a ratio of 70:30. That is, we use 70% of the data to build our classifiers and evaluate their performance on the remaining 30% of the data. It is is to ensure that we measure model performance on unseen data to avoid overfitting. We also set a random state value so that we can replicate our results later on."
   ]
  },
  {
   "cell_type": "code",
   "execution_count": 33,
   "metadata": {},
   "outputs": [
    {
     "name": "stdout",
     "output_type": "stream",
     "text": [
      "(408, 14)\n",
      "(175, 14)\n"
     ]
    }
   ],
   "source": [
    "from sklearn.model_selection import train_test_split\n",
    "\n",
    "D_train, D_test, t_train, t_test = train_test_split(Data, \n",
    "                                                    target, \n",
    "                                                    test_size = 0.3,\n",
    "                                                    random_state=999)\n",
    "\n",
    "print(D_train.shape)\n",
    "print(D_test.shape)"
   ]
  },
  {
   "cell_type": "markdown",
   "metadata": {},
   "source": [
    "## Model Fitting & Tuning <a name=\"MMFTT\"></a>"
   ]
  },
  {
   "cell_type": "code",
   "execution_count": 2,
   "metadata": {},
   "outputs": [],
   "source": [
    "from sklearn.model_selection import StratifiedKFold, GridSearchCV\n",
    "\n",
    "cv_method = StratifiedKFold(n_splits=5, random_state=999)"
   ]
  },
  {
   "cell_type": "markdown",
   "metadata": {},
   "source": [
    "Here we will train our data with a 5-fold stratified cross-validation for hyperparameter tuning and use it for prediction on test data "
   ]
  },
  {
   "cell_type": "markdown",
   "metadata": {},
   "source": [
    "## Hyperparameter Tuning \n",
    "### K-Nearest Neighbors (KNN)"
   ]
  },
  {
   "cell_type": "markdown",
   "metadata": {},
   "source": [
    "- We will use pipeline to stack feature selection and grid search for KNN hyperparameter tuning\n",
    "- KNN parameters will n_neighbors (no. of neighbors) and p (distance metric)"
   ]
  },
  {
   "cell_type": "code",
   "execution_count": 35,
   "metadata": {},
   "outputs": [],
   "source": [
    "from sklearn.base import BaseEstimator, TransformerMixin\n",
    "\n",
    "# custom function for RFI feature selection inside a pipeline\n",
    "# here we use n_estimators=100\n",
    "class RFIFeatureSelector(BaseEstimator, TransformerMixin):\n",
    "    \n",
    "    # class constructor \n",
    "    # make sure class attributes end with a \"_\"\n",
    "    # per scikit-learn convention to avoid errors\n",
    "    def __init__(self, n_features_=10):\n",
    "        self.n_features_ = n_features_\n",
    "        self.fs_indices_ = None\n",
    "\n",
    "    # override the fit function\n",
    "    def fit(self, X, y):\n",
    "        from sklearn.ensemble import RandomForestClassifier\n",
    "        from numpy import argsort\n",
    "        model_rfi = RandomForestClassifier(n_estimators=100)\n",
    "        model_rfi.fit(X, y)\n",
    "        self.fs_indices_ = argsort(model_rfi.feature_importances_)[::-1][0:self.n_features_] \n",
    "        return self \n",
    "    \n",
    "    # override the transform function\n",
    "    def transform(self, X, y=None):\n",
    "        return X[:, self.fs_indices_]"
   ]
  },
  {
   "cell_type": "code",
   "execution_count": 36,
   "metadata": {},
   "outputs": [],
   "source": [
    "from sklearn.pipeline import Pipeline\n",
    "from sklearn.neighbors import KNeighborsClassifier\n",
    "\n",
    "pipe_KNN = Pipeline(steps=[('rfi_fs', RFIFeatureSelector()), \n",
    "                           ('knn', KNeighborsClassifier())])\n",
    "\n",
    "params_pipe_KNN = {'rfi_fs__n_features_': [2,4,6,8,10, Data.shape[1]],\n",
    "                   'knn__n_neighbors': [1, 5, 10, 15, 20],\n",
    "                   'knn__p': [1,2,5]}\n",
    "\n",
    "gs_pipe_KNN = GridSearchCV(estimator=pipe_KNN, \n",
    "                           param_grid=params_pipe_KNN, \n",
    "                           cv=cv_method,\n",
    "                           refit=True,\n",
    "                           n_jobs=-2,\n",
    "                           scoring='roc_auc',\n",
    "                           verbose=1) "
   ]
  },
  {
   "cell_type": "code",
   "execution_count": 37,
   "metadata": {},
   "outputs": [
    {
     "name": "stdout",
     "output_type": "stream",
     "text": [
      "Fitting 5 folds for each of 90 candidates, totalling 450 fits\n"
     ]
    },
    {
     "name": "stderr",
     "output_type": "stream",
     "text": [
      "[Parallel(n_jobs=-2)]: Using backend LokyBackend with 3 concurrent workers.\n",
      "[Parallel(n_jobs=-2)]: Done  44 tasks      | elapsed:    8.7s\n",
      "[Parallel(n_jobs=-2)]: Done 194 tasks      | elapsed:   25.9s\n",
      "[Parallel(n_jobs=-2)]: Done 444 tasks      | elapsed:   53.2s\n",
      "[Parallel(n_jobs=-2)]: Done 450 out of 450 | elapsed:   53.8s finished\n"
     ]
    }
   ],
   "source": [
    "gs_pipe_KNN.fit(D_train, t_train);"
   ]
  },
  {
   "cell_type": "code",
   "execution_count": 38,
   "metadata": {},
   "outputs": [
    {
     "data": {
      "text/plain": [
       "{'knn__n_neighbors': 15, 'knn__p': 1, 'rfi_fs__n_features_': 4}"
      ]
     },
     "execution_count": 38,
     "metadata": {},
     "output_type": "execute_result"
    }
   ],
   "source": [
    "gs_pipe_KNN.best_params_"
   ]
  },
  {
   "cell_type": "code",
   "execution_count": 39,
   "metadata": {},
   "outputs": [
    {
     "data": {
      "text/plain": [
       "0.748349554036541"
      ]
     },
     "execution_count": 39,
     "metadata": {},
     "output_type": "execute_result"
    }
   ],
   "source": [
    "gs_pipe_KNN.best_score_"
   ]
  },
  {
   "cell_type": "markdown",
   "metadata": {},
   "source": [
    "- Mean AUC score of the KNN model = 0.748349554036541.\n",
    "- The model selected 4 features with 15 n_neighbors with Manhattan distance (p=1)"
   ]
  },
  {
   "cell_type": "markdown",
   "metadata": {},
   "source": [
    "- We will look at other combinations to see if the difference is significant or not. \n",
    "- Hence, we will make use of the function below to format the grid search outputs as a Pandas data frame."
   ]
  },
  {
   "cell_type": "code",
   "execution_count": 40,
   "metadata": {},
   "outputs": [],
   "source": [
    "# custom function to format the search results as a Pandas data frame\n",
    "def get_search_results(gs):\n",
    "\n",
    "    def model_result(scores, params):\n",
    "        scores = {'mean_score': np.mean(scores),\n",
    "             'std_score': np.std(scores),\n",
    "             'min_score': np.min(scores),\n",
    "             'max_score': np.max(scores)}\n",
    "        return pd.Series({**params,**scores})\n",
    "\n",
    "    models = []\n",
    "    scores = []\n",
    "\n",
    "    for i in range(gs.n_splits_):\n",
    "        key = f\"split{i}_test_score\"\n",
    "        r = gs.cv_results_[key]        \n",
    "        scores.append(r.reshape(-1,1))\n",
    "\n",
    "    all_scores = np.hstack(scores)\n",
    "    for p, s in zip(gs.cv_results_['params'], all_scores):\n",
    "        models.append((model_result(s, p)))\n",
    "\n",
    "    pipe_results = pd.concat(models, axis=1).T.sort_values(['mean_score'], ascending=False)\n",
    "\n",
    "    columns_first = ['mean_score', 'std_score', 'max_score', 'min_score']\n",
    "    columns = columns_first + [c for c in pipe_results.columns if c not in columns_first]\n",
    "\n",
    "    return pipe_results[columns]\n"
   ]
  },
  {
   "cell_type": "code",
   "execution_count": 41,
   "metadata": {},
   "outputs": [
    {
     "data": {
      "text/html": [
       "<div>\n",
       "<style scoped>\n",
       "    .dataframe tbody tr th:only-of-type {\n",
       "        vertical-align: middle;\n",
       "    }\n",
       "\n",
       "    .dataframe tbody tr th {\n",
       "        vertical-align: top;\n",
       "    }\n",
       "\n",
       "    .dataframe thead th {\n",
       "        text-align: right;\n",
       "    }\n",
       "</style>\n",
       "<table border=\"1\" class=\"dataframe\">\n",
       "  <thead>\n",
       "    <tr style=\"text-align: right;\">\n",
       "      <th></th>\n",
       "      <th>mean_score</th>\n",
       "      <th>std_score</th>\n",
       "      <th>max_score</th>\n",
       "      <th>min_score</th>\n",
       "      <th>knn__n_neighbors</th>\n",
       "      <th>knn__p</th>\n",
       "      <th>rfi_fs__n_features_</th>\n",
       "    </tr>\n",
       "  </thead>\n",
       "  <tbody>\n",
       "    <tr>\n",
       "      <th>55</th>\n",
       "      <td>0.748350</td>\n",
       "      <td>0.055539</td>\n",
       "      <td>0.805847</td>\n",
       "      <td>0.655122</td>\n",
       "      <td>15.0</td>\n",
       "      <td>1.0</td>\n",
       "      <td>4.0</td>\n",
       "    </tr>\n",
       "    <tr>\n",
       "      <th>79</th>\n",
       "      <td>0.744746</td>\n",
       "      <td>0.063040</td>\n",
       "      <td>0.835457</td>\n",
       "      <td>0.656595</td>\n",
       "      <td>20.0</td>\n",
       "      <td>2.0</td>\n",
       "      <td>4.0</td>\n",
       "    </tr>\n",
       "    <tr>\n",
       "      <th>67</th>\n",
       "      <td>0.744180</td>\n",
       "      <td>0.055545</td>\n",
       "      <td>0.818216</td>\n",
       "      <td>0.661754</td>\n",
       "      <td>15.0</td>\n",
       "      <td>5.0</td>\n",
       "      <td>4.0</td>\n",
       "    </tr>\n",
       "    <tr>\n",
       "      <th>73</th>\n",
       "      <td>0.743162</td>\n",
       "      <td>0.059057</td>\n",
       "      <td>0.820090</td>\n",
       "      <td>0.645542</td>\n",
       "      <td>20.0</td>\n",
       "      <td>1.0</td>\n",
       "      <td>4.0</td>\n",
       "    </tr>\n",
       "    <tr>\n",
       "      <th>85</th>\n",
       "      <td>0.741170</td>\n",
       "      <td>0.056341</td>\n",
       "      <td>0.823838</td>\n",
       "      <td>0.669860</td>\n",
       "      <td>20.0</td>\n",
       "      <td>5.0</td>\n",
       "      <td>4.0</td>\n",
       "    </tr>\n",
       "  </tbody>\n",
       "</table>\n",
       "</div>"
      ],
      "text/plain": [
       "    mean_score  std_score  max_score  min_score  knn__n_neighbors  knn__p  \\\n",
       "55    0.748350   0.055539   0.805847   0.655122              15.0     1.0   \n",
       "79    0.744746   0.063040   0.835457   0.656595              20.0     2.0   \n",
       "67    0.744180   0.055545   0.818216   0.661754              15.0     5.0   \n",
       "73    0.743162   0.059057   0.820090   0.645542              20.0     1.0   \n",
       "85    0.741170   0.056341   0.823838   0.669860              20.0     5.0   \n",
       "\n",
       "    rfi_fs__n_features_  \n",
       "55                  4.0  \n",
       "79                  4.0  \n",
       "67                  4.0  \n",
       "73                  4.0  \n",
       "85                  4.0  "
      ]
     },
     "execution_count": 41,
     "metadata": {},
     "output_type": "execute_result"
    }
   ],
   "source": [
    "results_KNN = get_search_results(gs_pipe_KNN)\n",
    "results_KNN.head()"
   ]
  },
  {
   "cell_type": "markdown",
   "metadata": {},
   "source": [
    "Here, we find the difference between hyperparameter combinations is not conditioned on the number of features. \n",
    "Finally, we visualize the results of the grid search corresponding to 4 selected features."
   ]
  },
  {
   "cell_type": "code",
   "execution_count": 42,
   "metadata": {},
   "outputs": [
    {
     "data": {
      "image/png": "[encoded data removed]",
      "text/plain": [
       "<Figure size 432x288 with 1 Axes>"
      ]
     },
     "metadata": {
      "image/png": {
       "height": 281,
       "width": 394
      }
     },
     "output_type": "display_data"
    }
   ],
   "source": [
    "results_KNN_4_features = results_KNN[results_KNN['rfi_fs__n_features_'] == 4]\n",
    "\n",
    "for i in results_KNN_4_features['knn__p'].unique():\n",
    "    temp = results_KNN_4_features[results_KNN_4_features['knn__p'] == i]\n",
    "    plt.plot(temp['knn__n_neighbors'], temp['mean_score'], marker = '.', label = i)\n",
    "    \n",
    "plt.legend(title = \"p\")\n",
    "plt.xlabel('Number of Neighbors')\n",
    "plt.ylabel(\"AUC Score\")\n",
    "plt.title(\"KNN Performance Comparison with 4 Features\")\n",
    "plt.show()"
   ]
  },
  {
   "cell_type": "markdown",
   "metadata": {},
   "source": [
    "### (Gaussian) Naive Bayes (NB)"
   ]
  },
  {
   "cell_type": "markdown",
   "metadata": {},
   "source": [
    "After, Hyperparameter tuning with KNN, we perform Gaussian Naive Bayes model. We optimize the var_smoothing parameter of Gaussian Naive Bayes with the help of grid search. We start with 2,4,6,8,10 and finally we end up adding the whole dataset with 200 values randomly. "
   ]
  },
  {
   "cell_type": "code",
   "execution_count": 43,
   "metadata": {},
   "outputs": [],
   "source": [
    "from sklearn.preprocessing import PowerTransformer\n",
    "D_train_transformed = PowerTransformer().fit_transform(D_train)"
   ]
  },
  {
   "cell_type": "code",
   "execution_count": 44,
   "metadata": {},
   "outputs": [
    {
     "name": "stdout",
     "output_type": "stream",
     "text": [
      "Fitting 5 folds for each of 200 candidates, totalling 1000 fits\n"
     ]
    },
    {
     "name": "stderr",
     "output_type": "stream",
     "text": [
      "[Parallel(n_jobs=-2)]: Using backend LokyBackend with 3 concurrent workers.\n",
      "[Parallel(n_jobs=-2)]: Done  44 tasks      | elapsed:    8.0s\n",
      "[Parallel(n_jobs=-2)]: Done 194 tasks      | elapsed:   26.6s\n",
      "[Parallel(n_jobs=-2)]: Done 444 tasks      | elapsed:   55.6s\n",
      "[Parallel(n_jobs=-2)]: Done 794 tasks      | elapsed:  1.6min\n",
      "[Parallel(n_jobs=-2)]: Done 1000 out of 1000 | elapsed:  2.0min finished\n"
     ]
    }
   ],
   "source": [
    "from sklearn.naive_bayes import GaussianNB\n",
    "from sklearn.model_selection import RandomizedSearchCV\n",
    "\n",
    "pipe_NB = Pipeline([('rfi_fs', RFIFeatureSelector()), \n",
    "                     ('nb', GaussianNB())])\n",
    "\n",
    "params_pipe_NB = {'rfi_fs__n_features_': [2,4,6,8,10, Data.shape[1]],\n",
    "                  'nb__var_smoothing': np.logspace(1,-3, num=200)}\n",
    "\n",
    "n_iter_search = 200\n",
    "gs_pipe_NB = RandomizedSearchCV(estimator=pipe_NB, \n",
    "                          param_distributions=params_pipe_NB, \n",
    "                          cv=cv_method,\n",
    "                          refit=True,\n",
    "                          n_jobs=-2,\n",
    "                          scoring='roc_auc',\n",
    "                          n_iter=n_iter_search,\n",
    "                          verbose=1) \n",
    "\n",
    "gs_pipe_NB.fit(D_train_transformed, t_train);"
   ]
  },
  {
   "cell_type": "code",
   "execution_count": 45,
   "metadata": {},
   "outputs": [
    {
     "data": {
      "text/plain": [
       "{'rfi_fs__n_features_': 8, 'nb__var_smoothing': 7.934096665797492}"
      ]
     },
     "execution_count": 45,
     "metadata": {},
     "output_type": "execute_result"
    }
   ],
   "source": [
    "gs_pipe_NB.best_params_"
   ]
  },
  {
   "cell_type": "code",
   "execution_count": 46,
   "metadata": {},
   "outputs": [
    {
     "data": {
      "text/plain": [
       "0.7578024547048511"
      ]
     },
     "execution_count": 46,
     "metadata": {},
     "output_type": "execute_result"
    }
   ],
   "source": [
    "gs_pipe_NB.best_score_"
   ]
  },
  {
   "cell_type": "markdown",
   "metadata": {},
   "source": [
    "- The mean AUC score of NB is 0.7578024547048511 i.e. slightly higher than KNN model.\n",
    "- This model outperforms NB."
   ]
  },
  {
   "cell_type": "code",
   "execution_count": 49,
   "metadata": {},
   "outputs": [
    {
     "data": {
      "text/html": [
       "<div>\n",
       "<style scoped>\n",
       "    .dataframe tbody tr th:only-of-type {\n",
       "        vertical-align: middle;\n",
       "    }\n",
       "\n",
       "    .dataframe tbody tr th {\n",
       "        vertical-align: top;\n",
       "    }\n",
       "\n",
       "    .dataframe thead th {\n",
       "        text-align: right;\n",
       "    }\n",
       "</style>\n",
       "<table border=\"1\" class=\"dataframe\">\n",
       "  <thead>\n",
       "    <tr style=\"text-align: right;\">\n",
       "      <th></th>\n",
       "      <th>mean_score</th>\n",
       "      <th>std_score</th>\n",
       "      <th>max_score</th>\n",
       "      <th>min_score</th>\n",
       "      <th>rfi_fs__n_features_</th>\n",
       "      <th>nb__var_smoothing</th>\n",
       "    </tr>\n",
       "  </thead>\n",
       "  <tbody>\n",
       "    <tr>\n",
       "      <th>157</th>\n",
       "      <td>0.757802</td>\n",
       "      <td>0.026378</td>\n",
       "      <td>0.784108</td>\n",
       "      <td>0.707443</td>\n",
       "      <td>8.0</td>\n",
       "      <td>7.934097</td>\n",
       "    </tr>\n",
       "    <tr>\n",
       "      <th>136</th>\n",
       "      <td>0.757365</td>\n",
       "      <td>0.027396</td>\n",
       "      <td>0.785607</td>\n",
       "      <td>0.705232</td>\n",
       "      <td>8.0</td>\n",
       "      <td>6.905514</td>\n",
       "    </tr>\n",
       "    <tr>\n",
       "      <th>94</th>\n",
       "      <td>0.757236</td>\n",
       "      <td>0.029688</td>\n",
       "      <td>0.791604</td>\n",
       "      <td>0.702284</td>\n",
       "      <td>8.0</td>\n",
       "      <td>2.494508</td>\n",
       "    </tr>\n",
       "    <tr>\n",
       "      <th>26</th>\n",
       "      <td>0.756979</td>\n",
       "      <td>0.031637</td>\n",
       "      <td>0.802099</td>\n",
       "      <td>0.705232</td>\n",
       "      <td>8.0</td>\n",
       "      <td>6.593188</td>\n",
       "    </tr>\n",
       "    <tr>\n",
       "      <th>96</th>\n",
       "      <td>0.755737</td>\n",
       "      <td>0.032767</td>\n",
       "      <td>0.803598</td>\n",
       "      <td>0.702284</td>\n",
       "      <td>8.0</td>\n",
       "      <td>2.381686</td>\n",
       "    </tr>\n",
       "  </tbody>\n",
       "</table>\n",
       "</div>"
      ],
      "text/plain": [
       "     mean_score  std_score  max_score  min_score  rfi_fs__n_features_  \\\n",
       "157    0.757802   0.026378   0.784108   0.707443                  8.0   \n",
       "136    0.757365   0.027396   0.785607   0.705232                  8.0   \n",
       "94     0.757236   0.029688   0.791604   0.702284                  8.0   \n",
       "26     0.756979   0.031637   0.802099   0.705232                  8.0   \n",
       "96     0.755737   0.032767   0.803598   0.702284                  8.0   \n",
       "\n",
       "     nb__var_smoothing  \n",
       "157           7.934097  \n",
       "136           6.905514  \n",
       "94            2.494508  \n",
       "26            6.593188  \n",
       "96            2.381686  "
      ]
     },
     "execution_count": 49,
     "metadata": {},
     "output_type": "execute_result"
    }
   ],
   "source": [
    "results_NB = get_search_results(gs_pipe_NB)\n",
    "results_NB.head()"
   ]
  },
  {
   "cell_type": "markdown",
   "metadata": {},
   "source": [
    "Let's visualize the search results."
   ]
  },
  {
   "cell_type": "code",
   "execution_count": 50,
   "metadata": {},
   "outputs": [
    {
     "data": {
      "image/png": "[encoded data removed]",
      "text/plain": [
       "<Figure size 432x288 with 1 Axes>"
      ]
     },
     "metadata": {
      "image/png": {
       "height": 281,
       "width": 400
      }
     },
     "output_type": "display_data"
    }
   ],
   "source": [
    "results_NB_8_features = results_NB[results_NB['rfi_fs__n_features_'] == 8].sort_values('nb__var_smoothing')\n",
    "\n",
    "plt.plot(results_NB_8_features['nb__var_smoothing'], results_NB_8_features['mean_score'], marker = '.', label = i)    \n",
    "plt.xlabel('Var. Smoothing')\n",
    "plt.ylabel(\"AUC Score\")\n",
    "plt.title(\"NB Performance Comparison with 8 Features\")\n",
    "plt.show()"
   ]
  },
  {
   "cell_type": "markdown",
   "metadata": {},
   "source": [
    "### Decision Trees (DT)"
   ]
  },
  {
   "cell_type": "markdown",
   "metadata": {},
   "source": [
    "The third classifier used is the Decision Tree classifier with criterion 'entropy' to maximize information gain. Similar to KNN and NB, features we use are 2,4,6,8,10 and whole data set. We use a combination of maximum depth (3,4,5) and minimum split (2,5) "
   ]
  },
  {
   "cell_type": "code",
   "execution_count": 51,
   "metadata": {},
   "outputs": [
    {
     "name": "stdout",
     "output_type": "stream",
     "text": [
      "Fitting 5 folds for each of 36 candidates, totalling 180 fits\n"
     ]
    },
    {
     "name": "stderr",
     "output_type": "stream",
     "text": [
      "[Parallel(n_jobs=-2)]: Using backend LokyBackend with 3 concurrent workers.\n",
      "[Parallel(n_jobs=-2)]: Done  44 tasks      | elapsed:    7.7s\n",
      "[Parallel(n_jobs=-2)]: Done 180 out of 180 | elapsed:   22.4s finished\n"
     ]
    }
   ],
   "source": [
    "from sklearn.tree import DecisionTreeClassifier\n",
    "\n",
    "pipe_DT = Pipeline([('rfi_fs', RFIFeatureSelector()),\n",
    "                    ('dt', DecisionTreeClassifier(criterion='entropy', random_state=111))])\n",
    "\n",
    "params_pipe_DT = {'rfi_fs__n_features_': [2,4,6,8,10, Data.shape[1]],\n",
    "                  'dt__max_depth': [3, 4, 5],\n",
    "                  'dt__min_samples_split': [2, 5]}\n",
    "\n",
    "gs_pipe_DT = GridSearchCV(estimator=pipe_DT, \n",
    "                          param_grid=params_pipe_DT, \n",
    "                          cv=cv_method,\n",
    "                          refit=True,\n",
    "                          n_jobs=-2,\n",
    "                          scoring='roc_auc',\n",
    "                          verbose=1) \n",
    "\n",
    "gs_pipe_DT.fit(D_train, t_train);"
   ]
  },
  {
   "cell_type": "code",
   "execution_count": 52,
   "metadata": {},
   "outputs": [
    {
     "data": {
      "text/plain": [
       "{'dt__max_depth': 5, 'dt__min_samples_split': 2, 'rfi_fs__n_features_': 8}"
      ]
     },
     "execution_count": 52,
     "metadata": {},
     "output_type": "execute_result"
    }
   ],
   "source": [
    "gs_pipe_DT.best_params_"
   ]
  },
  {
   "cell_type": "code",
   "execution_count": 53,
   "metadata": {},
   "outputs": [
    {
     "data": {
      "text/plain": [
       "0.7147714278453994"
      ]
     },
     "execution_count": 53,
     "metadata": {},
     "output_type": "execute_result"
    }
   ],
   "source": [
    "gs_pipe_DT.best_score_"
   ]
  },
  {
   "cell_type": "markdown",
   "metadata": {},
   "source": [
    "- The model has mean AUC score of 0.7147714278453994 with 8 features, maximum depth of 5 and minimum split of 2\n",
    "- This model has a comparitively low score than KNN and NB models."
   ]
  },
  {
   "cell_type": "code",
   "execution_count": 56,
   "metadata": {},
   "outputs": [
    {
     "data": {
      "text/html": [
       "<div>\n",
       "<style scoped>\n",
       "    .dataframe tbody tr th:only-of-type {\n",
       "        vertical-align: middle;\n",
       "    }\n",
       "\n",
       "    .dataframe tbody tr th {\n",
       "        vertical-align: top;\n",
       "    }\n",
       "\n",
       "    .dataframe thead th {\n",
       "        text-align: right;\n",
       "    }\n",
       "</style>\n",
       "<table border=\"1\" class=\"dataframe\">\n",
       "  <thead>\n",
       "    <tr style=\"text-align: right;\">\n",
       "      <th></th>\n",
       "      <th>mean_score</th>\n",
       "      <th>std_score</th>\n",
       "      <th>max_score</th>\n",
       "      <th>min_score</th>\n",
       "      <th>dt__max_depth</th>\n",
       "      <th>dt__min_samples_split</th>\n",
       "      <th>rfi_fs__n_features_</th>\n",
       "    </tr>\n",
       "  </thead>\n",
       "  <tbody>\n",
       "    <tr>\n",
       "      <th>27</th>\n",
       "      <td>0.714771</td>\n",
       "      <td>0.048020</td>\n",
       "      <td>0.794228</td>\n",
       "      <td>0.658438</td>\n",
       "      <td>5.0</td>\n",
       "      <td>2.0</td>\n",
       "      <td>8.0</td>\n",
       "    </tr>\n",
       "    <tr>\n",
       "      <th>33</th>\n",
       "      <td>0.714106</td>\n",
       "      <td>0.048763</td>\n",
       "      <td>0.794228</td>\n",
       "      <td>0.655859</td>\n",
       "      <td>5.0</td>\n",
       "      <td>5.0</td>\n",
       "      <td>8.0</td>\n",
       "    </tr>\n",
       "    <tr>\n",
       "      <th>29</th>\n",
       "      <td>0.711178</td>\n",
       "      <td>0.050653</td>\n",
       "      <td>0.799475</td>\n",
       "      <td>0.652542</td>\n",
       "      <td>5.0</td>\n",
       "      <td>2.0</td>\n",
       "      <td>14.0</td>\n",
       "    </tr>\n",
       "    <tr>\n",
       "      <th>21</th>\n",
       "      <td>0.710889</td>\n",
       "      <td>0.045431</td>\n",
       "      <td>0.775487</td>\n",
       "      <td>0.654048</td>\n",
       "      <td>4.0</td>\n",
       "      <td>5.0</td>\n",
       "      <td>8.0</td>\n",
       "    </tr>\n",
       "    <tr>\n",
       "      <th>28</th>\n",
       "      <td>0.708378</td>\n",
       "      <td>0.054088</td>\n",
       "      <td>0.799475</td>\n",
       "      <td>0.638541</td>\n",
       "      <td>5.0</td>\n",
       "      <td>2.0</td>\n",
       "      <td>10.0</td>\n",
       "    </tr>\n",
       "  </tbody>\n",
       "</table>\n",
       "</div>"
      ],
      "text/plain": [
       "    mean_score  std_score  max_score  min_score  dt__max_depth  \\\n",
       "27    0.714771   0.048020   0.794228   0.658438            5.0   \n",
       "33    0.714106   0.048763   0.794228   0.655859            5.0   \n",
       "29    0.711178   0.050653   0.799475   0.652542            5.0   \n",
       "21    0.710889   0.045431   0.775487   0.654048            4.0   \n",
       "28    0.708378   0.054088   0.799475   0.638541            5.0   \n",
       "\n",
       "    dt__min_samples_split  rfi_fs__n_features_  \n",
       "27                    2.0                  8.0  \n",
       "33                    5.0                  8.0  \n",
       "29                    2.0                 14.0  \n",
       "21                    5.0                  8.0  \n",
       "28                    2.0                 10.0  "
      ]
     },
     "execution_count": 56,
     "metadata": {},
     "output_type": "execute_result"
    }
   ],
   "source": [
    "results_DT = get_search_results(gs_pipe_DT)\n",
    "results_DT.head()"
   ]
  },
  {
   "cell_type": "code",
   "execution_count": 55,
   "metadata": {},
   "outputs": [
    {
     "data": {
      "image/png": "[encoded data removed]",
      "text/plain": [
       "<Figure size 432x288 with 1 Axes>"
      ]
     },
     "metadata": {
      "image/png": {
       "height": 281,
       "width": 407
      }
     },
     "output_type": "display_data"
    }
   ],
   "source": [
    "results_DT = get_search_results(gs_pipe_DT)\n",
    "results_DT_8_features = results_DT[results_DT['rfi_fs__n_features_'] == 8]\n",
    "\n",
    "\n",
    "for i in results_DT_8_features['dt__max_depth'].unique():\n",
    "    temp = results_DT_8_features[results_DT_8_features['dt__max_depth'] == i]\n",
    "    plt.plot(temp['dt__min_samples_split'], temp['mean_score'], marker = '.', label = i)\n",
    "    \n",
    "plt.legend(title = \"Max Depth\")\n",
    "plt.xlabel('Min Samples for Split')\n",
    "plt.ylabel(\"AUC Score\")\n",
    "plt.title(\"DT Performance Comparison with 8 Features\")\n",
    "plt.show()"
   ]
  },
  {
   "cell_type": "markdown",
   "metadata": {},
   "source": [
    "### Further Fine Tuning    not good"
   ]
  },
  {
   "cell_type": "markdown",
   "metadata": {},
   "source": [
    "In the DT model, when we visualize the plot, we see maximum and minimum hyperparameter are at two extreme ends. Hence, it is needed to fine tune the DT model by increasing the maximum depth and minimum splits respectively. "
   ]
  },
  {
   "cell_type": "code",
   "execution_count": 57,
   "metadata": {},
   "outputs": [
    {
     "name": "stdout",
     "output_type": "stream",
     "text": [
      "Fitting 5 folds for each of 12 candidates, totalling 60 fits\n"
     ]
    },
    {
     "name": "stderr",
     "output_type": "stream",
     "text": [
      "[Parallel(n_jobs=-2)]: Using backend LokyBackend with 3 concurrent workers.\n",
      "[Parallel(n_jobs=-2)]: Done  44 tasks      | elapsed:    7.3s\n",
      "[Parallel(n_jobs=-2)]: Done  60 out of  60 | elapsed:    9.1s finished\n"
     ]
    }
   ],
   "source": [
    "params_pipe_DT2 = {'rfi_fs__n_features_': [2],\n",
    "                  'dt__max_depth': [5, 10, 15],\n",
    "                  'dt__min_samples_split': [5, 50, 100, 150]}\n",
    "\n",
    "gs_pipe_DT2 = GridSearchCV(estimator=pipe_DT, \n",
    "                          param_grid=params_pipe_DT2, \n",
    "                          cv=cv_method,\n",
    "                          refit=True,\n",
    "                          n_jobs=-2,\n",
    "                          scoring='roc_auc',\n",
    "                          verbose=1) \n",
    "\n",
    "gs_pipe_DT2.fit(D_train, t_train);"
   ]
  },
  {
   "cell_type": "code",
   "execution_count": 58,
   "metadata": {},
   "outputs": [
    {
     "data": {
      "text/plain": [
       "{'dt__max_depth': 5, 'dt__min_samples_split': 100, 'rfi_fs__n_features_': 2}"
      ]
     },
     "execution_count": 58,
     "metadata": {},
     "output_type": "execute_result"
    }
   ],
   "source": [
    "gs_pipe_DT2.best_params_"
   ]
  },
  {
   "cell_type": "code",
   "execution_count": 59,
   "metadata": {},
   "outputs": [
    {
     "data": {
      "text/plain": [
       "0.7266167763575839"
      ]
     },
     "execution_count": 59,
     "metadata": {},
     "output_type": "execute_result"
    }
   ],
   "source": [
    "gs_pipe_DT2.best_score_"
   ]
  },
  {
   "cell_type": "code",
   "execution_count": 60,
   "metadata": {},
   "outputs": [
    {
     "data": {
      "text/html": [
       "<div>\n",
       "<style scoped>\n",
       "    .dataframe tbody tr th:only-of-type {\n",
       "        vertical-align: middle;\n",
       "    }\n",
       "\n",
       "    .dataframe tbody tr th {\n",
       "        vertical-align: top;\n",
       "    }\n",
       "\n",
       "    .dataframe thead th {\n",
       "        text-align: right;\n",
       "    }\n",
       "</style>\n",
       "<table border=\"1\" class=\"dataframe\">\n",
       "  <thead>\n",
       "    <tr style=\"text-align: right;\">\n",
       "      <th></th>\n",
       "      <th>mean_score</th>\n",
       "      <th>std_score</th>\n",
       "      <th>max_score</th>\n",
       "      <th>min_score</th>\n",
       "      <th>dt__max_depth</th>\n",
       "      <th>dt__min_samples_split</th>\n",
       "      <th>rfi_fs__n_features_</th>\n",
       "    </tr>\n",
       "  </thead>\n",
       "  <tbody>\n",
       "    <tr>\n",
       "      <th>2</th>\n",
       "      <td>0.726617</td>\n",
       "      <td>0.063507</td>\n",
       "      <td>0.850075</td>\n",
       "      <td>0.670228</td>\n",
       "      <td>5.0</td>\n",
       "      <td>100.0</td>\n",
       "      <td>2.0</td>\n",
       "    </tr>\n",
       "    <tr>\n",
       "      <th>10</th>\n",
       "      <td>0.723768</td>\n",
       "      <td>0.065049</td>\n",
       "      <td>0.850075</td>\n",
       "      <td>0.670228</td>\n",
       "      <td>15.0</td>\n",
       "      <td>100.0</td>\n",
       "      <td>2.0</td>\n",
       "    </tr>\n",
       "    <tr>\n",
       "      <th>3</th>\n",
       "      <td>0.722872</td>\n",
       "      <td>0.062664</td>\n",
       "      <td>0.844078</td>\n",
       "      <td>0.677229</td>\n",
       "      <td>5.0</td>\n",
       "      <td>150.0</td>\n",
       "      <td>2.0</td>\n",
       "    </tr>\n",
       "    <tr>\n",
       "      <th>7</th>\n",
       "      <td>0.722872</td>\n",
       "      <td>0.062664</td>\n",
       "      <td>0.844078</td>\n",
       "      <td>0.677229</td>\n",
       "      <td>10.0</td>\n",
       "      <td>150.0</td>\n",
       "      <td>2.0</td>\n",
       "    </tr>\n",
       "    <tr>\n",
       "      <th>11</th>\n",
       "      <td>0.713727</td>\n",
       "      <td>0.045215</td>\n",
       "      <td>0.798351</td>\n",
       "      <td>0.677229</td>\n",
       "      <td>15.0</td>\n",
       "      <td>150.0</td>\n",
       "      <td>2.0</td>\n",
       "    </tr>\n",
       "  </tbody>\n",
       "</table>\n",
       "</div>"
      ],
      "text/plain": [
       "    mean_score  std_score  max_score  min_score  dt__max_depth  \\\n",
       "2     0.726617   0.063507   0.850075   0.670228            5.0   \n",
       "10    0.723768   0.065049   0.850075   0.670228           15.0   \n",
       "3     0.722872   0.062664   0.844078   0.677229            5.0   \n",
       "7     0.722872   0.062664   0.844078   0.677229           10.0   \n",
       "11    0.713727   0.045215   0.798351   0.677229           15.0   \n",
       "\n",
       "    dt__min_samples_split  rfi_fs__n_features_  \n",
       "2                   100.0                  2.0  \n",
       "10                  100.0                  2.0  \n",
       "3                   150.0                  2.0  \n",
       "7                   150.0                  2.0  \n",
       "11                  150.0                  2.0  "
      ]
     },
     "execution_count": 60,
     "metadata": {},
     "output_type": "execute_result"
    }
   ],
   "source": [
    "results_DT = get_search_results(gs_pipe_DT2)\n",
    "results_DT.head()"
   ]
  },
  {
   "cell_type": "code",
   "execution_count": 61,
   "metadata": {},
   "outputs": [
    {
     "data": {
      "image/png": "[encoded data removed]",
      "text/plain": [
       "<Figure size 432x288 with 1 Axes>"
      ]
     },
     "metadata": {
      "image/png": {
       "height": 281,
       "width": 429
      }
     },
     "output_type": "display_data"
    }
   ],
   "source": [
    "results_DT_2_features = results_DT[results_DT['rfi_fs__n_features_'] == 2].sort_values('dt__min_samples_split')\n",
    "\n",
    "\n",
    "for i in results_DT_2_features['dt__max_depth'].unique():\n",
    "    temp = results_DT_2_features[results_DT_2_features['dt__max_depth'] == i]\n",
    "    plt.plot(temp['dt__min_samples_split'], temp['mean_score'], marker = '.', label = i)\n",
    "    \n",
    "plt.legend(title = \"Max Depth\")\n",
    "plt.xlabel('Min Samples for Split')\n",
    "plt.ylabel(\"AUC Score\")\n",
    "plt.title(\"DT Performance Comparison with 2 Features - Extended\")\n",
    "plt.show()"
   ]
  },
  {
   "cell_type": "markdown",
   "metadata": {},
   "source": [
    "- After fine tuning of DT model, we can see mean AUC score of this model has increased from the original DT model.\n",
    "- Original score of DT model was 0.7147714278453994 and after fine tuning the mean score is 0.7266167763575839\n",
    "- This model selected 2 features, with maximum depth of 5 and minimum splits of 100"
   ]
  },
  {
   "cell_type": "markdown",
   "metadata": {},
   "source": [
    "### Random Forest classifier (RF)"
   ]
  },
  {
   "cell_type": "markdown",
   "metadata": {},
   "source": [
    "After fine tuning of Decision tree model, we implement the Random Forest Classifier using pipeline.\n",
    "From this model, we would like to find the optimal combinations of maximum depth and Number of Estimators. We start with 2,4,6,8,10 and finally we end up adding the whole dataset."
   ]
  },
  {
   "cell_type": "code",
   "execution_count": 62,
   "metadata": {},
   "outputs": [
    {
     "name": "stdout",
     "output_type": "stream",
     "text": [
      "Fitting 5 folds for each of 72 candidates, totalling 360 fits\n"
     ]
    },
    {
     "name": "stderr",
     "output_type": "stream",
     "text": [
      "[Parallel(n_jobs=-2)]: Using backend LokyBackend with 3 concurrent workers.\n",
      "[Parallel(n_jobs=-2)]: Done  44 tasks      | elapsed:   14.2s\n",
      "[Parallel(n_jobs=-2)]: Done 194 tasks      | elapsed:  1.2min\n",
      "[Parallel(n_jobs=-2)]: Done 360 out of 360 | elapsed:  2.4min finished\n"
     ]
    }
   ],
   "source": [
    "from sklearn.ensemble import RandomForestClassifier\n",
    "\n",
    "pipe_RF = Pipeline([('rfi_fs', RFIFeatureSelector()), \n",
    "                     ('rf', RandomForestClassifier())])\n",
    "\n",
    "params_pipe_RF = {'rfi_fs__n_features_': [2,4,6,8,10, Data.shape[1]],\n",
    "                  'rf__n_estimators': [100,200,300,400],\n",
    "                  'rf__max_depth': [5,10,15]}\n",
    "\n",
    "gs_pipe_RF = GridSearchCV(estimator=pipe_RF, \n",
    "                          param_grid=params_pipe_RF, \n",
    "                          cv=cv_method,\n",
    "                          refit=True,\n",
    "                          n_jobs=-2,\n",
    "                          scoring='roc_auc',\n",
    "                          verbose=1) \n",
    "\n",
    "gs_pipe_RF.fit(D_train, t_train);"
   ]
  },
  {
   "cell_type": "code",
   "execution_count": 63,
   "metadata": {},
   "outputs": [
    {
     "data": {
      "text/plain": [
       "{'rf__max_depth': 15, 'rf__n_estimators': 200, 'rfi_fs__n_features_': 14}"
      ]
     },
     "execution_count": 63,
     "metadata": {},
     "output_type": "execute_result"
    }
   ],
   "source": [
    "gs_pipe_RF.best_params_"
   ]
  },
  {
   "cell_type": "code",
   "execution_count": 64,
   "metadata": {},
   "outputs": [
    {
     "data": {
      "text/plain": [
       "0.7661359997967118"
      ]
     },
     "execution_count": 64,
     "metadata": {},
     "output_type": "execute_result"
    }
   ],
   "source": [
    "gs_pipe_RF.best_score_"
   ]
  },
  {
   "cell_type": "markdown",
   "metadata": {},
   "source": [
    "- The mean AUC score of RF model is 0.7661359997967118 with 14 features, maximum depth of 15 and 200 n_estimators\n",
    "- This model outperforms other models"
   ]
  },
  {
   "cell_type": "code",
   "execution_count": 65,
   "metadata": {},
   "outputs": [
    {
     "data": {
      "text/html": [
       "<div>\n",
       "<style scoped>\n",
       "    .dataframe tbody tr th:only-of-type {\n",
       "        vertical-align: middle;\n",
       "    }\n",
       "\n",
       "    .dataframe tbody tr th {\n",
       "        vertical-align: top;\n",
       "    }\n",
       "\n",
       "    .dataframe thead th {\n",
       "        text-align: right;\n",
       "    }\n",
       "</style>\n",
       "<table border=\"1\" class=\"dataframe\">\n",
       "  <thead>\n",
       "    <tr style=\"text-align: right;\">\n",
       "      <th></th>\n",
       "      <th>mean_score</th>\n",
       "      <th>std_score</th>\n",
       "      <th>max_score</th>\n",
       "      <th>min_score</th>\n",
       "      <th>rf__max_depth</th>\n",
       "      <th>rf__n_estimators</th>\n",
       "      <th>rfi_fs__n_features_</th>\n",
       "    </tr>\n",
       "  </thead>\n",
       "  <tbody>\n",
       "    <tr>\n",
       "      <th>59</th>\n",
       "      <td>0.766136</td>\n",
       "      <td>0.030960</td>\n",
       "      <td>0.821214</td>\n",
       "      <td>0.731393</td>\n",
       "      <td>15.0</td>\n",
       "      <td>200.0</td>\n",
       "      <td>14.0</td>\n",
       "    </tr>\n",
       "    <tr>\n",
       "      <th>21</th>\n",
       "      <td>0.765464</td>\n",
       "      <td>0.036776</td>\n",
       "      <td>0.829085</td>\n",
       "      <td>0.717760</td>\n",
       "      <td>5.0</td>\n",
       "      <td>400.0</td>\n",
       "      <td>8.0</td>\n",
       "    </tr>\n",
       "    <tr>\n",
       "      <th>33</th>\n",
       "      <td>0.764905</td>\n",
       "      <td>0.038794</td>\n",
       "      <td>0.832084</td>\n",
       "      <td>0.712601</td>\n",
       "      <td>10.0</td>\n",
       "      <td>200.0</td>\n",
       "      <td>8.0</td>\n",
       "    </tr>\n",
       "    <tr>\n",
       "      <th>23</th>\n",
       "      <td>0.762908</td>\n",
       "      <td>0.030441</td>\n",
       "      <td>0.805097</td>\n",
       "      <td>0.711127</td>\n",
       "      <td>5.0</td>\n",
       "      <td>400.0</td>\n",
       "      <td>14.0</td>\n",
       "    </tr>\n",
       "    <tr>\n",
       "      <th>14</th>\n",
       "      <td>0.761825</td>\n",
       "      <td>0.046839</td>\n",
       "      <td>0.845577</td>\n",
       "      <td>0.701548</td>\n",
       "      <td>5.0</td>\n",
       "      <td>300.0</td>\n",
       "      <td>6.0</td>\n",
       "    </tr>\n",
       "  </tbody>\n",
       "</table>\n",
       "</div>"
      ],
      "text/plain": [
       "    mean_score  std_score  max_score  min_score  rf__max_depth  \\\n",
       "59    0.766136   0.030960   0.821214   0.731393           15.0   \n",
       "21    0.765464   0.036776   0.829085   0.717760            5.0   \n",
       "33    0.764905   0.038794   0.832084   0.712601           10.0   \n",
       "23    0.762908   0.030441   0.805097   0.711127            5.0   \n",
       "14    0.761825   0.046839   0.845577   0.701548            5.0   \n",
       "\n",
       "    rf__n_estimators  rfi_fs__n_features_  \n",
       "59             200.0                 14.0  \n",
       "21             400.0                  8.0  \n",
       "33             200.0                  8.0  \n",
       "23             400.0                 14.0  \n",
       "14             300.0                  6.0  "
      ]
     },
     "execution_count": 65,
     "metadata": {},
     "output_type": "execute_result"
    }
   ],
   "source": [
    "results_RF = get_search_results(gs_pipe_RF)\n",
    "results_RF.head()"
   ]
  },
  {
   "cell_type": "code",
   "execution_count": 66,
   "metadata": {},
   "outputs": [
    {
     "data": {
      "image/png": "[encoded data removed]",
      "text/plain": [
       "<Figure size 432x288 with 1 Axes>"
      ]
     },
     "metadata": {
      "image/png": {
       "height": 281,
       "width": 400
      }
     },
     "output_type": "display_data"
    }
   ],
   "source": [
    "results_RF_14_features = results_RF[results_RF['rfi_fs__n_features_'] == 14].sort_values('rf__n_estimators')\n",
    "\n",
    "\n",
    "for i in results_RF_14_features['rf__max_depth'].unique():\n",
    "    temp = results_RF_14_features[results_RF_14_features['rf__max_depth'] == i]\n",
    "    plt.plot(temp['rf__n_estimators'], temp['mean_score'], marker = '.', label = i)\n",
    "    \n",
    "plt.legend(title = \"Max Depth\")\n",
    "plt.xlabel('Number of Estimators')\n",
    "plt.ylabel(\"AUC Score\")\n",
    "plt.title(\"RF Performance Comparison with 14 Features\")\n",
    "plt.show()"
   ]
  },
  {
   "cell_type": "markdown",
   "metadata": {},
   "source": [
    "### Support Vector Machine (SVC)"
   ]
  },
  {
   "cell_type": "markdown",
   "metadata": {},
   "source": [
    "The last classifier we implement is the Support Vector machine (SVC) with penalty parameters 0.1,1,10,100 and gamma parameters as 1,0.1,0.01,0.001."
   ]
  },
  {
   "cell_type": "code",
   "execution_count": 67,
   "metadata": {},
   "outputs": [
    {
     "name": "stdout",
     "output_type": "stream",
     "text": [
      "Fitting 5 folds for each of 96 candidates, totalling 480 fits\n"
     ]
    },
    {
     "name": "stderr",
     "output_type": "stream",
     "text": [
      "[Parallel(n_jobs=-2)]: Using backend LokyBackend with 3 concurrent workers.\n",
      "[Parallel(n_jobs=-2)]: Done  44 tasks      | elapsed:    8.0s\n",
      "[Parallel(n_jobs=-2)]: Done 194 tasks      | elapsed:   26.6s\n",
      "[Parallel(n_jobs=-2)]: Done 444 tasks      | elapsed:   55.9s\n",
      "[Parallel(n_jobs=-2)]: Done 480 out of 480 | elapsed:  1.0min finished\n"
     ]
    }
   ],
   "source": [
    "from sklearn.svm import SVC\n",
    "\n",
    "pipe_SV = Pipeline([('rfi_fs', RFIFeatureSelector()), \n",
    "                     ('sv', SVC())])\n",
    "\n",
    "params_pipe_SV = {'rfi_fs__n_features_': [2,4,6,8,10, Data.shape[1]],\n",
    "                  'sv__C': [0.1,1, 10, 100], \n",
    "                  'sv__gamma': [1,0.1,0.01,0.001]}\n",
    "\n",
    "gs_pipe_SV = GridSearchCV(estimator=pipe_SV, \n",
    "                          param_grid=params_pipe_SV, \n",
    "                          cv=cv_method,\n",
    "                          refit=True,\n",
    "                          n_jobs=-2,\n",
    "                          scoring='roc_auc',\n",
    "                          verbose=1) \n",
    "\n",
    "gs_pipe_SV.fit(D_train, t_train);"
   ]
  },
  {
   "cell_type": "code",
   "execution_count": 68,
   "metadata": {},
   "outputs": [
    {
     "data": {
      "text/plain": [
       "{'rfi_fs__n_features_': 14, 'sv__C': 100, 'sv__gamma': 0.01}"
      ]
     },
     "execution_count": 68,
     "metadata": {},
     "output_type": "execute_result"
    }
   ],
   "source": [
    "gs_pipe_SV.best_params_"
   ]
  },
  {
   "cell_type": "code",
   "execution_count": 69,
   "metadata": {},
   "outputs": [
    {
     "data": {
      "text/plain": [
       "0.711811043630727"
      ]
     },
     "execution_count": 69,
     "metadata": {},
     "output_type": "execute_result"
    }
   ],
   "source": [
    "gs_pipe_SV.best_score_"
   ]
  },
  {
   "cell_type": "markdown",
   "metadata": {},
   "source": [
    "- The mean score of SVM model is 0.711811043630727 with 14 features and penalty parameter as 100 and gamma parameter as 0.01"
   ]
  },
  {
   "cell_type": "code",
   "execution_count": 70,
   "metadata": {},
   "outputs": [
    {
     "data": {
      "text/html": [
       "<div>\n",
       "<style scoped>\n",
       "    .dataframe tbody tr th:only-of-type {\n",
       "        vertical-align: middle;\n",
       "    }\n",
       "\n",
       "    .dataframe tbody tr th {\n",
       "        vertical-align: top;\n",
       "    }\n",
       "\n",
       "    .dataframe thead th {\n",
       "        text-align: right;\n",
       "    }\n",
       "</style>\n",
       "<table border=\"1\" class=\"dataframe\">\n",
       "  <thead>\n",
       "    <tr style=\"text-align: right;\">\n",
       "      <th></th>\n",
       "      <th>mean_score</th>\n",
       "      <th>std_score</th>\n",
       "      <th>max_score</th>\n",
       "      <th>min_score</th>\n",
       "      <th>rfi_fs__n_features_</th>\n",
       "      <th>sv__C</th>\n",
       "      <th>sv__gamma</th>\n",
       "    </tr>\n",
       "  </thead>\n",
       "  <tbody>\n",
       "    <tr>\n",
       "      <th>94</th>\n",
       "      <td>0.711811</td>\n",
       "      <td>0.033646</td>\n",
       "      <td>0.750184</td>\n",
       "      <td>0.670915</td>\n",
       "      <td>14.0</td>\n",
       "      <td>100.0</td>\n",
       "      <td>0.010</td>\n",
       "    </tr>\n",
       "    <tr>\n",
       "      <th>60</th>\n",
       "      <td>0.701720</td>\n",
       "      <td>0.083385</td>\n",
       "      <td>0.782609</td>\n",
       "      <td>0.544584</td>\n",
       "      <td>8.0</td>\n",
       "      <td>100.0</td>\n",
       "      <td>1.000</td>\n",
       "    </tr>\n",
       "    <tr>\n",
       "      <th>7</th>\n",
       "      <td>0.700186</td>\n",
       "      <td>0.034157</td>\n",
       "      <td>0.746131</td>\n",
       "      <td>0.654385</td>\n",
       "      <td>2.0</td>\n",
       "      <td>1.0</td>\n",
       "      <td>0.001</td>\n",
       "    </tr>\n",
       "    <tr>\n",
       "      <th>44</th>\n",
       "      <td>0.693063</td>\n",
       "      <td>0.085542</td>\n",
       "      <td>0.773029</td>\n",
       "      <td>0.543847</td>\n",
       "      <td>6.0</td>\n",
       "      <td>100.0</td>\n",
       "      <td>1.000</td>\n",
       "    </tr>\n",
       "    <tr>\n",
       "      <th>77</th>\n",
       "      <td>0.690379</td>\n",
       "      <td>0.060847</td>\n",
       "      <td>0.796610</td>\n",
       "      <td>0.615328</td>\n",
       "      <td>10.0</td>\n",
       "      <td>100.0</td>\n",
       "      <td>0.100</td>\n",
       "    </tr>\n",
       "  </tbody>\n",
       "</table>\n",
       "</div>"
      ],
      "text/plain": [
       "    mean_score  std_score  max_score  min_score  rfi_fs__n_features_  sv__C  \\\n",
       "94    0.711811   0.033646   0.750184   0.670915                 14.0  100.0   \n",
       "60    0.701720   0.083385   0.782609   0.544584                  8.0  100.0   \n",
       "7     0.700186   0.034157   0.746131   0.654385                  2.0    1.0   \n",
       "44    0.693063   0.085542   0.773029   0.543847                  6.0  100.0   \n",
       "77    0.690379   0.060847   0.796610   0.615328                 10.0  100.0   \n",
       "\n",
       "    sv__gamma  \n",
       "94      0.010  \n",
       "60      1.000  \n",
       "7       0.001  \n",
       "44      1.000  \n",
       "77      0.100  "
      ]
     },
     "execution_count": 70,
     "metadata": {},
     "output_type": "execute_result"
    }
   ],
   "source": [
    "results_SV = get_search_results(gs_pipe_SV)\n",
    "results_SV.head()"
   ]
  },
  {
   "cell_type": "code",
   "execution_count": 73,
   "metadata": {},
   "outputs": [
    {
     "data": {
      "image/png": "[encoded data removed]",
      "text/plain": [
       "<Figure size 432x288 with 1 Axes>"
      ]
     },
     "metadata": {
      "image/png": {
       "height": 281,
       "width": 397
      }
     },
     "output_type": "display_data"
    }
   ],
   "source": [
    "results_SV_14_features = results_SV[results_SV['rfi_fs__n_features_'] == 14].sort_values('sv__gamma')\n",
    "\n",
    "\n",
    "for i in results_SV_14_features['sv__C'].unique():\n",
    "    temp = results_SV_14_features[results_SV_14_features['sv__gamma'] == i]\n",
    "    plt.plot(temp['sv__C'], temp['mean_score'], marker = '.', label = i)\n",
    "    \n",
    "plt.legend(title = \"Gamma\")\n",
    "plt.xlabel('Value of C')\n",
    "plt.ylabel(\"AUC Score\")\n",
    "plt.title(\"SVC Performance Comparison with 14 Features\")\n",
    "plt.show()"
   ]
  },
  {
   "cell_type": "markdown",
   "metadata": {},
   "source": [
    "## Model Comparison <a name=\"MMCC\"></a>"
   ]
  },
  {
   "cell_type": "markdown",
   "metadata": {},
   "source": [
    "- In the above step, we used the training dataset to implement all the classifiers. From the five classifiers we implemented, we found Random Forest Classifier as the best performing classifier. \n",
    "- In the model comparison step, we fit all these models on the test dataset to find the best performing model.\n",
    "- Later we would perform, paired t-tests to check if the models are statistically significant."
   ]
  },
  {
   "cell_type": "code",
   "execution_count": 74,
   "metadata": {},
   "outputs": [
    {
     "data": {
      "text/plain": [
       "0.635181623931624"
      ]
     },
     "execution_count": 74,
     "metadata": {},
     "output_type": "execute_result"
    }
   ],
   "source": [
    "from sklearn.model_selection import cross_val_score\n",
    "\n",
    "cv_method_ttest = StratifiedKFold(n_splits=10, random_state=999)\n",
    "\n",
    "cv_results_KNN = cross_val_score(estimator=gs_pipe_KNN.best_estimator_,\n",
    "                                 X=D_test,\n",
    "                                 y=t_test, \n",
    "                                 cv=cv_method_ttest, \n",
    "                                 n_jobs=-2,\n",
    "                                 scoring='roc_auc')\n",
    "cv_results_KNN.mean()"
   ]
  },
  {
   "cell_type": "code",
   "execution_count": 75,
   "metadata": {},
   "outputs": [
    {
     "data": {
      "text/plain": [
       "0.7411752136752138"
      ]
     },
     "execution_count": 75,
     "metadata": {},
     "output_type": "execute_result"
    }
   ],
   "source": [
    "D_test_transformed = PowerTransformer().fit_transform(D_test)\n",
    "\n",
    "cv_results_NB = cross_val_score(estimator=gs_pipe_NB.best_estimator_,\n",
    "                                X=D_test_transformed,\n",
    "                                y=t_test, \n",
    "                                cv=cv_method_ttest, \n",
    "                                n_jobs=-2,\n",
    "                                scoring='roc_auc')\n",
    "cv_results_NB.mean()"
   ]
  },
  {
   "cell_type": "code",
   "execution_count": 76,
   "metadata": {},
   "outputs": [
    {
     "data": {
      "text/plain": [
       "0.6347435897435898"
      ]
     },
     "execution_count": 76,
     "metadata": {},
     "output_type": "execute_result"
    }
   ],
   "source": [
    "cv_results_DT = cross_val_score(estimator=gs_pipe_DT2.best_estimator_,\n",
    "                                X=D_test,\n",
    "                                y=t_test, \n",
    "                                cv=cv_method_ttest, \n",
    "                                n_jobs=-2,\n",
    "                                scoring='roc_auc')\n",
    "cv_results_DT.mean()"
   ]
  },
  {
   "cell_type": "code",
   "execution_count": 77,
   "metadata": {},
   "outputs": [
    {
     "data": {
      "text/plain": [
       "0.7460042735042733"
      ]
     },
     "execution_count": 77,
     "metadata": {},
     "output_type": "execute_result"
    }
   ],
   "source": [
    "cv_results_RF = cross_val_score(estimator=gs_pipe_RF.best_estimator_,\n",
    "                                X=D_test,\n",
    "                                y=t_test, \n",
    "                                cv=cv_method_ttest, \n",
    "                                n_jobs=-2,\n",
    "                                scoring='roc_auc')\n",
    "cv_results_RF.mean()"
   ]
  },
  {
   "cell_type": "code",
   "execution_count": 78,
   "metadata": {},
   "outputs": [
    {
     "data": {
      "text/plain": [
       "0.7592521367521369"
      ]
     },
     "execution_count": 78,
     "metadata": {},
     "output_type": "execute_result"
    }
   ],
   "source": [
    "cv_results_SV = cross_val_score(estimator=gs_pipe_SV.best_estimator_,\n",
    "                                X=D_test,\n",
    "                                y=t_test, \n",
    "                                cv=cv_method_ttest, \n",
    "                                n_jobs=-2,\n",
    "                                scoring='roc_auc')\n",
    "cv_results_SV.mean()"
   ]
  },
  {
   "cell_type": "markdown",
   "metadata": {},
   "source": [
    "Here, we find the best performing model is Support vector machine with a mean score of 0.759.\n",
    "The second best performing model is Random Forest followed by Gaussian Naive Bayes, KNN and Decision trees."
   ]
  },
  {
   "cell_type": "code",
   "execution_count": 81,
   "metadata": {},
   "outputs": [
    {
     "name": "stdout",
     "output_type": "stream",
     "text": [
      "Ttest_relResult(statistic=-3.2126860524923764, pvalue=0.010613109362806112)\n",
      "Ttest_relResult(statistic=0.008678370330482086, pvalue=0.9932650726516291)\n",
      "Ttest_relResult(statistic=-2.2066136498877618, pvalue=0.05474683796112822)\n",
      "Ttest_relResult(statistic=-3.2126860524923764, pvalue=0.010613109362806112)\n",
      "Ttest_relResult(statistic=-3.0199021705479976, pvalue=0.014481610209515156)\n",
      "Ttest_relResult(statistic=-2.368619707302332, pvalue=0.042003868632563966)\n",
      "Ttest_relResult(statistic=-2.3754717814541646, pvalue=0.04153481724893735)\n",
      "Ttest_relResult(statistic=0.119630308441458, pvalue=0.907403880070618)\n",
      "Ttest_relResult(statistic=-0.4993016018636967, pvalue=0.629544004276412)\n",
      "Ttest_relResult(statistic=0.4094754194918028, pvalue=0.6917647086998512)\n"
     ]
    }
   ],
   "source": [
    "from scipy import stats\n",
    "\n",
    "print(stats.ttest_rel(cv_results_KNN, cv_results_RF))\n",
    "print(stats.ttest_rel(cv_results_KNN, cv_results_DT))\n",
    "print(stats.ttest_rel(cv_results_KNN, cv_results_NB))\n",
    "print(stats.ttest_rel(cv_results_KNN, cv_results_RF))\n",
    "print(stats.ttest_rel(cv_results_DT, cv_results_RF))\n",
    "print(stats.ttest_rel(cv_results_DT, cv_results_NB))\n",
    "print(stats.ttest_rel(cv_results_DT, cv_results_SV))\n",
    "print(stats.ttest_rel(cv_results_RF, cv_results_NB))\n",
    "print(stats.ttest_rel(cv_results_RF, cv_results_SV))\n",
    "print(stats.ttest_rel(cv_results_SV, cv_results_NB))"
   ]
  },
  {
   "cell_type": "markdown",
   "metadata": {},
   "source": [
    "A p-value smaller than 0.05 indicates a statistically significant difference. Looking at these results, we conclude that at a 95% significance level, SVM is statistically the best model in this competition (in terms of AUC) when compared on the test data."
   ]
  },
  {
   "cell_type": "markdown",
   "metadata": {},
   "source": [
    "We consider the following metrics to evaluate models based on the test set:\n",
    "\n",
    "- Accuracy\n",
    "- Precision\n",
    "- Recall\n",
    "- F1 Score (the harmonic average of precision and recall)\n",
    "- Confusion Matrix\n",
    "\n",
    "These metrics can be computed using classification_report from sklearn.metrics as shown below"
   ]
  },
  {
   "cell_type": "code",
   "execution_count": 82,
   "metadata": {},
   "outputs": [],
   "source": [
    "pred_KNN = gs_pipe_KNN.predict(D_test)"
   ]
  },
  {
   "cell_type": "code",
   "execution_count": 83,
   "metadata": {},
   "outputs": [],
   "source": [
    "Data_test_transformed = PowerTransformer().fit_transform(D_test)\n",
    "pred_NB = gs_pipe_NB.predict(Data_test_transformed)"
   ]
  },
  {
   "cell_type": "code",
   "execution_count": 84,
   "metadata": {},
   "outputs": [],
   "source": [
    "pred_DT = gs_pipe_DT.predict(D_test)"
   ]
  },
  {
   "cell_type": "code",
   "execution_count": 85,
   "metadata": {},
   "outputs": [],
   "source": [
    "pred_RF = gs_pipe_RF.predict(D_test)"
   ]
  },
  {
   "cell_type": "code",
   "execution_count": 86,
   "metadata": {},
   "outputs": [],
   "source": [
    "pred_SV = gs_pipe_SV.predict(D_test)"
   ]
  },
  {
   "cell_type": "code",
   "execution_count": 87,
   "metadata": {},
   "outputs": [
    {
     "name": "stdout",
     "output_type": "stream",
     "text": [
      "\n",
      "Classification report for K-Nearest Neighbor\n",
      "              precision    recall  f1-score   support\n",
      "\n",
      "           0       0.76      0.74      0.75       123\n",
      "           1       0.43      0.46      0.44        52\n",
      "\n",
      "    accuracy                           0.66       175\n",
      "   macro avg       0.60      0.60      0.60       175\n",
      "weighted avg       0.66      0.66      0.66       175\n",
      "\n",
      "\n",
      "Classification report for Naive Bayes\n",
      "              precision    recall  f1-score   support\n",
      "\n",
      "           0       0.70      1.00      0.83       123\n",
      "           1       0.00      0.00      0.00        52\n",
      "\n",
      "    accuracy                           0.70       175\n",
      "   macro avg       0.35      0.50      0.41       175\n",
      "weighted avg       0.49      0.70      0.58       175\n",
      "\n",
      "\n",
      "Classification report for Decision Tree\n",
      "              precision    recall  f1-score   support\n",
      "\n",
      "           0       0.79      0.66      0.72       123\n",
      "           1       0.42      0.58      0.48        52\n",
      "\n",
      "    accuracy                           0.63       175\n",
      "   macro avg       0.60      0.62      0.60       175\n",
      "weighted avg       0.68      0.63      0.65       175\n",
      "\n",
      "\n",
      "Classification report for Random Forest Classifier\n",
      "              precision    recall  f1-score   support\n",
      "\n",
      "           0       0.71      0.81      0.76       123\n",
      "           1       0.32      0.21      0.26        52\n",
      "\n",
      "    accuracy                           0.63       175\n",
      "   macro avg       0.52      0.51      0.51       175\n",
      "weighted avg       0.59      0.63      0.61       175\n",
      "\n",
      "\n",
      "Classification report for Support Vector Machine\n",
      "              precision    recall  f1-score   support\n",
      "\n",
      "           0       0.70      1.00      0.83       123\n",
      "           1       0.00      0.00      0.00        52\n",
      "\n",
      "    accuracy                           0.70       175\n",
      "   macro avg       0.35      0.50      0.41       175\n",
      "weighted avg       0.49      0.70      0.58       175\n",
      "\n"
     ]
    }
   ],
   "source": [
    "from sklearn import metrics\n",
    "print(\"\\nClassification report for K-Nearest Neighbor\") \n",
    "print(metrics.classification_report(t_test, pred_KNN))\n",
    "print(\"\\nClassification report for Naive Bayes\") \n",
    "print(metrics.classification_report(t_test, pred_NB))\n",
    "print(\"\\nClassification report for Decision Tree\") \n",
    "print(metrics.classification_report(t_test, pred_DT))\n",
    "print(\"\\nClassification report for Random Forest Classifier\") \n",
    "print(metrics.classification_report(t_test, pred_RF))\n",
    "print(\"\\nClassification report for Support Vector Machine\") \n",
    "print(metrics.classification_report(t_test, pred_SV))"
   ]
  },
  {
   "cell_type": "markdown",
   "metadata": {},
   "source": [
    "The confusion matrices are given below."
   ]
  },
  {
   "cell_type": "code",
   "execution_count": 88,
   "metadata": {},
   "outputs": [
    {
     "name": "stdout",
     "output_type": "stream",
     "text": [
      "\n",
      "Confusion matrix for K-Nearest Neighbor\n",
      "[[91 32]\n",
      " [28 24]]\n",
      "\n",
      "Confusion matrix for Naive Bayes\n",
      "[[123   0]\n",
      " [ 52   0]]\n",
      "\n",
      "Confusion matrix for Decision Tree\n",
      "[[81 42]\n",
      " [22 30]]\n",
      "\n",
      "Confusion matrix for Random Forest Classifier\n",
      "[[100  23]\n",
      " [ 41  11]]\n",
      "\n",
      "Confusion matrix for Support Vector Machine\n",
      "[[123   0]\n",
      " [ 52   0]]\n"
     ]
    }
   ],
   "source": [
    "from sklearn import metrics\n",
    "print(\"\\nConfusion matrix for K-Nearest Neighbor\") \n",
    "print(metrics.confusion_matrix(t_test, pred_KNN))\n",
    "print(\"\\nConfusion matrix for Naive Bayes\") \n",
    "print(metrics.confusion_matrix(t_test, pred_NB))\n",
    "print(\"\\nConfusion matrix for Decision Tree\") \n",
    "print(metrics.confusion_matrix(t_test, pred_DT))\n",
    "print(\"\\nConfusion matrix for Random Forest Classifier\") \n",
    "print(metrics.confusion_matrix(t_test, pred_RF))\n",
    "print(\"\\nConfusion matrix for Support Vector Machine\") \n",
    "print(metrics.confusion_matrix(t_test, pred_SV))"
   ]
  },
  {
   "cell_type": "markdown",
   "metadata": {},
   "source": [
    "From the hyperparameter tuning, we find Support vector machine is statistically significant from the AUC score, however, from the Classification report and confusion matrices, Decision Tree is statistically the performer."
   ]
  },
  {
   "cell_type": "markdown",
   "metadata": {},
   "source": [
    "# Critique & Limitations <a name=\"CCL\"></a>\n",
    "\n",
    "The goal of this experiment was to see whether we could develop a model that could classify if a person has or does not have liver disease. The following models were investigated: K-Nearest Neighbor Model, Gaussian Naive Bayes, A Decision Tree, Random Forest Classifier, Support Vector Machine. These five classifiers have good classification rates, precisions, and recall metrics. As a result, all five classifiers are possible candidates for predicting if patients suffer from a liver disease. The precision score of the KNN model is the highest, however, the recall of Decision tree is the highest. For further study, we may think about doing a more in-depth analysis of the feature selection and ranking process, as well as our hyperparameter space selections. Also, the sample size is small hence, results may not be one hundred percent correct. In future, we would like to work on comparitively larger dataset. In terms of precision metric, the Decision tree classifier is the best performing model and in terms of mean AUC score the SVM is the best performing model. Hence, this would give a biased result.\n"
   ]
  },
  {
   "cell_type": "markdown",
   "metadata": {},
   "source": [
    "# Summary & Conclusions <a name=\"CC\"></a>"
   ]
  },
  {
   "cell_type": "markdown",
   "metadata": {},
   "source": [
    "## Project Summary <a name=\"PPS\"></a>\n",
    "\n",
    "- The main objective of the Indian Liver patient’s data is to analyse the patient’s records, develop a statistical algorithm to reduce the patient’s risk of contracting a liver disease.\n",
    "\n",
    "- In the `project phase 1`, we performed data preprocessing and data exploration. \n",
    "\n",
    "- The data pre-processing included checking of missing values, removing of outliers, checking the datatypes etc. In the data exploration section, we visualized each attribute in the liver disease dataset.\n",
    "\n",
    "- A summary and meaning of the important variables in the dataset is as follows:\n",
    "\n",
    "- TB - Normal range of TB is 1.2 mg/dL. From the data exploration it shows that, Total Bilirubin in the blood in maximum of the patients is above 1.1 however some of the patients have more than 1.4 mg/dL Amount of bilirubin present in blood can be found using a bilirubin test. If the bilirubin levels are higher, it suggests that you might have liver disease namely cirrhosis or cancer.\n",
    "\n",
    "- DB - Normal range of DB is 0.3 mg/dL. Maximum of the patients have Direct bilirubin levels greater than a normal range i.e., between 0.4 to 0.6. Bilirubin is attached to albumin in blood. This type of bilirubin is called indirect or unconjugated bilirubin. If the levels are higher than normal, then it indicates that liver is not functioning properly and might be suffering from a disease.\n",
    "\n",
    "- Alkphos Alkaline Phosphotase - Normal range of Alkphos Alkaline Phosphotase is 44 to 147 international units per liter (IU/L). The results show that, maximum patients have ALP levels more than 150 IU/L. It is an enzyme found in the body. If the Alkphos Alkaline Phosphotase levels are higher than a nominal level, then it would suggest that, liver is not working properly. The conditions would be liver cancer, cirrhosis, hepatitis.\n",
    "\n",
    "- Sgpt Alamine Aminotransferase - Normal range of Sgpt Alamine Aminotransferase is 7 to 56 units per serum. The exploration tells us that, SGPT levels in patients are in the given normal range however some of the patients have the levels slightly more than 56. Normally, the levels of Sgpt Alamine Aminotransferase enzyme are low and if the levels start increasing then it might suggest the person is suffering from liver disease.\n",
    "\n",
    "- Sgot Aspartate aminotransferase - Normal range of Sgot Aspartate aminotransferase is between 5 to 40 units per litre of serum. The SGOT levels of maximum of the patients are more than the normal range of 40. These levels are seen to be around 50 which are considered considerably high. The sgot levels in blood are low but if these levels are high then it would suggest that person suffers from liver disease.\n",
    "\n",
    "- TP - Normal range of TP is 6 to 8 g/dL. The total proteins levels are in the normal range for maximum number of the patients. Proteins in the blood are mostly made by a person liver. Lower levels of TP than a nominal count suggest that the person has liver or kidney disorder. Higher levels than a nominal count suggest that person is suffering from chronic infection like HIV or Hepatitis.\n",
    "\n",
    "- ALB - Nominal range of Albumin is 3.4 to 5.4 g/dl. The albumin levels for most of the patients are in the normal range. These levels lie between 3 to 5 g/dL. If the albumin levels are lower than this, then the person would suffer from malnutrition. If the albumin levels are higher than this, then the person is suffering from a liver disease.\n",
    "\n",
    "- A/G Ratio - A normal A/G Ratio is over one. In the results it can be seen maximum number of the patients have an AG Ratio of over one. If the A/G ratio is higher than this, then it suggests that person a suffering from a liver disease or leukemia. A low level of A/G Ratio is caused due to over production of globulins.\n",
    "\n",
    "- In `project phase 2`, we use preprocessed dataset from phase 1 and transform the dataset. Data transformation includes, encoding the descriptive features into numeric (categorical features) and scaling the other descriptive features. We split the dataset into into train and test dataset with a 70:30 ratio. Hence, the training dataset contains 408 instances and test dataset contains 175 instances.\n",
    "\n",
    "- We performed feature ranking and selected the best features. We performed feature selection using F-score, Mutual information, Random Forest Importance and SpFSR. From all these methods, we selected the best features using Random Forest Importance with 100 estimators inside a pipeline. The best features were categorized by selecting 2,4,6,8,10 and all the features after encoding and scaling the descriptive features.\n",
    "\n",
    "- We implement a 5-fold stratified cross validation to fine tune hyper-parameters of each classifier using AUC (Area Under Curve) as performance metric. This is done by using feature selection and hyperparameter search within a single pipeline. The selector field i.e. the target feature has more values of patients with a liver disease, it is important to stratify the dataset so that this dataset and the original dataset has same proportion of classes. Once, the classification is performed, they are fitted on the test data using a 10-fold cross-validation. The next step performed is the paired t-tests to check their performance and check if they are statistically significant.\n",
    "\n",
    "- Finally, these classifiers are compared on the test data using their recall scores and confusion matrices.\n"
   ]
  },
  {
   "cell_type": "markdown",
   "metadata": {},
   "source": [
    "## Summary of Findings <a name=\"SSOF\"></a>\n",
    "\n",
    "- In phase 2 of the project, we used Random Forest Importance for feature selection and ranking. After feature selection and ranking, we used five binary classifiers namely, K-Nearest Neighbors, Gaussian Naive Bayes, Decision Tree, Random Forest Classifier and Support Vector machine.\n",
    "- We implemented hyperparameter tuning with 5-fold cross validation and we optimised each of these models.\n",
    "- From all the binary classifiers, we found the mean score of SVM the highest in other words SVM outperforms all the other classifiers.\n",
    "- After, hyperparameter tuning, we fitted these models on the test dataset. In that step, we found a similar result that showed SVM outperforming other models.\n",
    "- To check if the model is statistically significant, we performed paired t-tests.\n",
    "- In the paired t-tests, we find the SVM model is statistically significant as the p_value is less than 0.05.\n",
    "- Further, we found confusion matrices. In the confusion matrices, we found the precision score of Decision tree the highest and recall of KNN the highest.\n",
    "- As recall is equal to the true positive rate, we can say that, KNN would be a best performer."
   ]
  },
  {
   "cell_type": "markdown",
   "metadata": {},
   "source": [
    "## Conclusions <a name=\"CCC\"></a>\n",
    "\n",
    "After analysing the dataset performing data pre-processing and exploration in phase 1 and predictive modelling phase 2, it can be concluded that there are various important factors that would lead to predict whether or not the person is suffering from liver disease. From phase 1, we find that Total and Direct Bilirubin levels, SGPT and SGOT levels, ALP level, total proteins level in the blood, Albumin and Albumin to Globulin ratio have a key relationship with one another. In the phase 2, we find the metric of recall is the most appropriate to compare the best performing models. Therefore, we can conclude that, Decision tree is one of the best performing in terms on precision score, Support Vector machine best performing in terms of mean AUC score and K-Nearest neighbor in terms of recall or true positive rate."
   ]
  },
  {
   "cell_type": "markdown",
   "metadata": {},
   "source": [
    "### References\n",
    "\n",
    "From module notes (week 1 to week 12) of course Math2319 Machine Learning and Case study, Professor Aksakalli Vural, RMIT University, https://www.featureranking.com/tutorials/machine-learning-tutorials/case-study-predicting-income-status/#Summary-Statistics"
   ]
  }
 ],
 "metadata": {
  "kernelspec": {
   "display_name": "Python 3 (ipykernel)",
   "language": "python",
   "name": "python3"
  },
  "language_info": {
   "codemirror_mode": {
    "name": "ipython",
    "version": 3
   },
   "file_extension": ".py",
   "mimetype": "text/x-python",
   "name": "python",
   "nbconvert_exporter": "python",
   "pygments_lexer": "ipython3",
   "version": "3.13.0"
  }
 },
 "nbformat": 4,
 "nbformat_minor": 4
}
